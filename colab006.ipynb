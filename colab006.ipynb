{
 "cells": [
  {
   "cell_type": "code",
   "execution_count": 2,
   "metadata": {},
   "outputs": [
    {
     "name": "stdout",
     "output_type": "stream",
     "text": [
      "         item  precio  costo  unidades\n",
      "0  mascarilla      25   0.15       500\n",
      "1  alcohol96°      17   0.11       300\n",
      "2  alcoholgel      15   0.10       250\n"
     ]
    }
   ],
   "source": [
    "# importar una LIBRERIA llamada pandas, con el sobrenombre pd\n",
    "import pandas as pd\n",
    "# el archivo excel debe estar en la misma ruta que el programa\n",
    "archivo_excel = pd.read_excel('items.xlsx')\n",
    "print(archivo_excel)\n"
   ]
  },
  {
   "cell_type": "code",
   "execution_count": 3,
   "metadata": {},
   "outputs": [
    {
     "name": "stdout",
     "output_type": "stream",
     "text": [
      "         item  precio  costo  unidades\n",
      "0  mascarilla      25   0.15       500\n",
      "1  alcohol96°      17   0.11       300\n",
      "2  alcoholgel      15   0.10       250\n"
     ]
    }
   ],
   "source": [
    "import pandas as pd\n",
    "archivo_excel = pd.read_excel('items.xlsx')\n",
    "print(archivo_excel)\n"
   ]
  },
  {
   "cell_type": "code",
   "execution_count": 5,
   "metadata": {},
   "outputs": [
    {
     "name": "stdout",
     "output_type": "stream",
     "text": [
      "mascarilla\n",
      "alcohol96°\n",
      "alcoholgel\n"
     ]
    }
   ],
   "source": [
    "import pandas as pd\n",
    "# archivo_excel  es  un dataframe\n",
    "archivo_excel = pd.read_excel('items.xlsx')\n",
    "\n",
    "# idx es el INDICE : (0,1,2)\n",
    "# row es el contenido de la FILA\n",
    "# .iterrows() , permite recorrer por filas todo el dataframe\n",
    "for idx,row in archivo_excel.iterrows():\n",
    "     item = archivo_excel.iloc[idx]['item']\n",
    "     print(item)\n",
    "    "
   ]
  },
  {
   "cell_type": "code",
   "execution_count": 21,
   "metadata": {},
   "outputs": [
    {
     "name": "stdout",
     "output_type": "stream",
     "text": [
      "mascarilla\n",
      "alcohol96°\n",
      "alcoholgel\n",
      "N95\n"
     ]
    }
   ],
   "source": [
    "import pandas as pd\n",
    "# df1  es  un dataframe\n",
    "df1 = pd.read_excel('items.xlsx')\n",
    "\n",
    "# idx es el INDICE : (0,1,2)\n",
    "# row es el contenido de la FILA\n",
    "# .iterrows() , permite recorrer por filas todo el dataframe\n",
    "for idx,row in df1.iterrows():\n",
    "     item = df1.iloc[idx]['item']\n",
    "     print(item)\n",
    "    \n",
    "    "
   ]
  },
  {
   "cell_type": "code",
   "execution_count": 22,
   "metadata": {},
   "outputs": [
    {
     "name": "stdout",
     "output_type": "stream",
     "text": [
      "mascarilla 25 0.15 500\n",
      "12425.0\n",
      "alcohol96° 17 0.11 300\n",
      "5067.0\n",
      "alcoholgel 15 0.1 250\n",
      "3725.0\n",
      "N95 15 7.0 50\n",
      "400.0\n"
     ]
    }
   ],
   "source": [
    "import pandas as pd\n",
    "# df1  es  un dataframe\n",
    "df1 = pd.read_excel('items.xlsx')\n",
    "\n",
    "# idx es el INDICE : (0,1,2)\n",
    "# row es el contenido de la FILA\n",
    "# .iterrows() , permite recorrer por filas todo el dataframe\n",
    "for idx,row in df1.iterrows():\n",
    "     vitem = df1.iloc[idx]['item']\n",
    "     vprecio = df1.iloc[idx]['precio']\n",
    "     vcosto = df1.iloc[idx]['costo']\n",
    "     vunidades = df1.iloc[idx]['unidades']   \n",
    "     print(vitem,vprecio,vcosto,vunidades)\n",
    "     #\n",
    "     vutilidad = vunidades * (vprecio-vcosto)\n",
    "     print(vutilidad)"
   ]
  },
  {
   "cell_type": "code",
   "execution_count": 23,
   "metadata": {},
   "outputs": [
    {
     "name": "stdout",
     "output_type": "stream",
     "text": [
      "mascarilla 25 0.15 500 12425.0\n",
      "alcohol96° 17 0.11 300 5067.0\n",
      "alcoholgel 15 0.1 250 3725.0\n",
      "N95 15 7.0 50 400.0\n"
     ]
    }
   ],
   "source": [
    "import pandas as pd\n",
    "# df1  es  un dataframe\n",
    "df1 = pd.read_excel('items.xlsx')\n",
    "\n",
    "# idx es el INDICE : (0,1,2)\n",
    "# row es el contenido de la FILA\n",
    "# .iterrows() , permite recorrer por filas todo el dataframe\n",
    "for idx,row in df1.iterrows():\n",
    "     vitem = df1.iloc[idx]['item']\n",
    "     vprecio = df1.iloc[idx]['precio']\n",
    "     vcosto = df1.iloc[idx]['costo']\n",
    "     vunidades = df1.iloc[idx]['unidades']      \n",
    "     #\n",
    "     vutilidad = vunidades * (vprecio-vcosto)\n",
    "     print(vitem,vprecio,vcosto,vunidades,vutilidad) "
   ]
  },
  {
   "cell_type": "code",
   "execution_count": 24,
   "metadata": {},
   "outputs": [
    {
     "name": "stdout",
     "output_type": "stream",
     "text": [
      "mascarilla 25 0.15 500 12425.0\n",
      "alcohol96° 17 0.11 300 5067.0\n",
      "alcoholgel 15 0.1 250 3725.0\n",
      "N95 15 7.0 50 400.0\n",
      "utilidadGeneral:  21617.0\n"
     ]
    }
   ],
   "source": [
    "import pandas as pd\n",
    "# df1  es  un dataframe\n",
    "df1 = pd.read_excel('items.xlsx')\n",
    "\n",
    "utilidadGeneral = 0\n",
    "\n",
    "for idx,row in df1.iterrows():\n",
    "     vitem = df1.iloc[idx]['item']\n",
    "     vprecio = df1.iloc[idx]['precio']\n",
    "     vcosto = df1.iloc[idx]['costo']\n",
    "     vunidades = df1.iloc[idx]['unidades']      \n",
    "     #\n",
    "     vutilidad = vunidades * (vprecio-vcosto)\n",
    "     print(vitem,vprecio,vcosto,vunidades,vutilidad) \n",
    "     #   \n",
    "     utilidadGeneral = utilidadGeneral + vutilidad\n",
    "print(\"utilidadGeneral: \",utilidadGeneral) "
   ]
  },
  {
   "cell_type": "code",
   "execution_count": 19,
   "metadata": {
    "scrolled": true
   },
   "outputs": [
    {
     "name": "stdout",
     "output_type": "stream",
     "text": [
      "         item  precio  costo  unidades\n",
      "0  mascarilla      25   0.15       500\n",
      "1  alcohol96°      17   0.11       300\n",
      "2  alcoholgel      15   0.10       250\n",
      "3         N95      15   7.00        50\n",
      "mascarilla 25 0.15 500 12425.0\n",
      "alcohol96° 17 0.11 300 5067.0\n",
      "alcoholgel 15 0.1 250 3725.0\n",
      "N95 15 7.0 50 400.0\n",
      "utilidadGeneral:  21617.0\n"
     ]
    }
   ],
   "source": [
    "import pandas as pd\n",
    "# df1  es  un dataframe\n",
    "df1 = pd.read_excel('items.xlsx')\n",
    "print(df1)\n",
    "\n",
    "utilidadGeneral = 0\n",
    "\n",
    "for idx,row in df1.iterrows():\n",
    "     vitem = df1.iloc[idx]['item']\n",
    "     vprecio = df1.iloc[idx]['precio']\n",
    "     vcosto = df1.iloc[idx]['costo']\n",
    "     vunidades = df1.iloc[idx]['unidades']      \n",
    "     #\n",
    "     vutilidad = vunidades * (vprecio-vcosto)\n",
    "     #\n",
    "     print(vitem,vprecio,vcosto,vunidades,vutilidad) \n",
    "     #   \n",
    "     utilidadGeneral = utilidadGeneral + vutilidad\n",
    "print(\"utilidadGeneral: \",utilidadGeneral) \n",
    "\n",
    "#  porcentaje[i] = utilidad[i] * 100 / utilidadGeneral \n"
   ]
  },
  {
   "cell_type": "code",
   "execution_count": null,
   "metadata": {},
   "outputs": [],
   "source": []
  }
 ],
 "metadata": {
  "kernelspec": {
   "display_name": "Python 3",
   "language": "python",
   "name": "python3"
  },
  "language_info": {
   "codemirror_mode": {
    "name": "ipython",
    "version": 3
   },
   "file_extension": ".py",
   "mimetype": "text/x-python",
   "name": "python",
   "nbconvert_exporter": "python",
   "pygments_lexer": "ipython3",
   "version": "3.7.1"
  }
 },
 "nbformat": 4,
 "nbformat_minor": 4
}
