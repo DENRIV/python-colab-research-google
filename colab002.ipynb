{
 "cells": [
  {
   "cell_type": "code",
   "execution_count": 1,
   "metadata": {
    "colab": {
     "base_uri": "https://localhost:8080/",
     "height": 68
    },
    "colab_type": "code",
    "id": "dN8AWqRrJLJ8",
    "outputId": "6e11b449-d141-4942-8063-bee63670e4f4"
   },
   "outputs": [
    {
     "name": "stdout",
     "output_type": "stream",
     "text": [
      "ingrese base:20\n",
      "ingrese altura:4\n",
      "AREA DEL PRISMA :  40.0\n"
     ]
    }
   ],
   "source": [
    "# AREA DEL PRISMA RETANGULAR\n",
    "\n",
    "# AREA_ PRISMA  = (base*altura)/2\n",
    "\n",
    "base = int(input(\"ingrese base:\" ))\n",
    "\n",
    "altura = int(input(\"ingrese altura:\" ))\n",
    "\n",
    "AREA_PRISMA  = (base*altura)/2\n",
    "\n",
    "print(\"AREA DEL PRISMA : \", AREA_PRISMA )"
   ]
  },
  {
   "cell_type": "code",
   "execution_count": 5,
   "metadata": {
    "colab": {
     "base_uri": "https://localhost:8080/",
     "height": 85
    },
    "colab_type": "code",
    "id": "tElU8Ulvc-8M",
    "outputId": "2444b59a-a89b-4029-dbbc-42e4912bac64"
   },
   "outputs": [
    {
     "name": "stdout",
     "output_type": "stream",
     "text": [
      "ingrese BaseMayor:8\n",
      "ingrese baseMenor:4\n",
      "ingrese altura:2\n",
      "AreaTrapecio :  12.0\n"
     ]
    }
   ],
   "source": [
    "# Area de Trapecio\n",
    "# A = ((B + b) /2 ) * h\n",
    "# AreaTrapecio = ((BaseMayor + baseMenor) /2 ) * altura\n",
    "\n",
    "BaseMayor = int(input(\"ingrese BaseMayor:\" ))\n",
    "baseMenor = int(input(\"ingrese baseMenor:\" ))\n",
    "altura = int(input(\"ingrese altura:\" ))\n",
    "\n",
    "AreaTrapecio = ((BaseMayor + baseMenor) /2 ) * altura\n",
    "\n",
    "print(\"AreaTrapecio : \", AreaTrapecio )\n",
    "\n"
   ]
  },
  {
   "cell_type": "code",
   "execution_count": 6,
   "metadata": {
    "colab": {
     "base_uri": "https://localhost:8080/",
     "height": 85
    },
    "colab_type": "code",
    "id": "KNksYX0dd1Ox",
    "outputId": "0284d3ec-ef43-4c6d-b9ba-d6d23bca1553"
   },
   "outputs": [
    {
     "name": "stdout",
     "output_type": "stream",
     "text": [
      "ingrese BaseMayor:8\n",
      "ingrese baseMenor:4\n",
      "ingrese altura:2\n",
      "Area del Trapecio :  12.0\n"
     ]
    }
   ],
   "source": [
    "# Area de Trapecio\n",
    "# A = ((B + b) /2 ) * h\n",
    "# AreaTrapecio = ((BaseMayor + baseMenor) /2 ) * altura\n",
    "\n",
    "BaseMayor = int(input(\"ingrese BaseMayor:\" ))\n",
    "baseMenor = int(input(\"ingrese baseMenor:\" ))\n",
    "altura = int(input(\"ingrese altura:\" ))\n",
    "\n",
    "AreaTrapecio = ((BaseMayor + baseMenor) /2 ) * altura\n",
    "\n",
    "print(\"Area del Trapecio : \", AreaTrapecio )\n"
   ]
  },
  {
   "cell_type": "code",
   "execution_count": 7,
   "metadata": {
    "colab": {
     "base_uri": "https://localhost:8080/",
     "height": 85
    },
    "colab_type": "code",
    "id": "uJZH43qgd8ON",
    "outputId": "b4cdf1d0-e80d-4ad2-ed86-d5ecc996ea4b"
   },
   "outputs": [
    {
     "name": "stdout",
     "output_type": "stream",
     "text": [
      "ingrese BaseMayor:8\n",
      "ingrese baseMenor:4\n",
      "ingrese altura:2\n",
      "Area del Trapecio :  12.0\n"
     ]
    }
   ],
   "source": [
    "# Area de Trapecio\n",
    "# A = ((B + b) /2 ) * h\n",
    "# AreaTrapecio = ((BaseMayor + baseMenor) /2 ) * altura\n",
    "\n",
    "Base_Mayor = int(input(\"ingrese BaseMayor:\" ))\n",
    "base_Menor = int(input(\"ingrese baseMenor:\" ))\n",
    "altura = int(input(\"ingrese altura:\" ))\n",
    "\n",
    "Area_Trapecio = ((Base_Mayor + base_Menor) /2 ) * altura\n",
    "\n",
    "print(\"Area del Trapecio : \", Area_Trapecio )"
   ]
  },
  {
   "cell_type": "code",
   "execution_count": 8,
   "metadata": {
    "colab": {
     "base_uri": "https://localhost:8080/",
     "height": 85
    },
    "colab_type": "code",
    "id": "FODzslfxeJYI",
    "outputId": "cea7ce4e-bc37-4db5-b0ba-fd767b931277"
   },
   "outputs": [
    {
     "name": "stdout",
     "output_type": "stream",
     "text": [
      "ingrese BaseMayor:8\n",
      "ingrese baseMenor:4\n",
      "ingrese altura:2\n",
      "Area del Trapecio :  4.0\n"
     ]
    }
   ],
   "source": [
    "# Area de Trapecio\n",
    "# A = ((B + b) /2 ) * h\n",
    "# AreaTrapecio = ((BaseMayor + baseMenor) /2 ) * altura\n",
    "\n",
    "B = int(input(\"ingrese BaseMayor:\" ))\n",
    "b = int(input(\"ingrese baseMenor:\" ))\n",
    "h = int(input(\"ingrese altura:\" ))\n",
    "\n",
    "A = (( + b) /2 ) * h\n",
    "\n",
    "print(\"Area del Trapecio : \", A )"
   ]
  },
  {
   "cell_type": "code",
   "execution_count": 9,
   "metadata": {
    "colab": {
     "base_uri": "https://localhost:8080/",
     "height": 68
    },
    "colab_type": "code",
    "id": "OU9i6XeFfObN",
    "outputId": "dd95fc8b-8498-4f19-e192-8ba0341f6f2c"
   },
   "outputs": [
    {
     "name": "stdout",
     "output_type": "stream",
     "text": [
      "ingrese PERIMETRO:10\n",
      "ingrese apotema:4\n",
      "AREAPOLIGONO :  20.0\n"
     ]
    }
   ],
   "source": [
    "# Polígono regular\n",
    "# A = P/2 * a\n",
    "# AREAPOLIGONO = PERIMETRO/2 * apotema\n",
    "\n",
    "PERIMETRO = int(input(\"ingrese PERIMETRO:\" ))\n",
    "apotema = int(input(\"ingrese apotema:\" ))\n",
    "\n",
    "AREAPOLIGONO = PERIMETRO/2 * apotema\n",
    "\n",
    "print(\"AREAPOLIGONO : \", AREAPOLIGONO )\n"
   ]
  },
  {
   "cell_type": "code",
   "execution_count": 10,
   "metadata": {
    "colab": {
     "base_uri": "https://localhost:8080/",
     "height": 68
    },
    "colab_type": "code",
    "id": "Bbt6FzQNfrN5",
    "outputId": "a1984ac3-e07d-4211-b602-e8f501f94cce"
   },
   "outputs": [
    {
     "name": "stdout",
     "output_type": "stream",
     "text": [
      "ingrese RADIO:10\n",
      "ingrese GENERATRIZ:4\n",
      "AREACONO :  125.66000000000001\n"
     ]
    }
   ],
   "source": [
    "# AREA DEL CONO\n",
    "# A = PI * r * g\n",
    "# AREACONO = PI * RADIO * GENERATRIZ\n",
    "PI = 3.1415\n",
    "\n",
    "RADIO = int(input(\"ingrese RADIO:\" ))\n",
    "GENERATRIZ = int(input(\"ingrese GENERATRIZ:\" ))\n",
    "\n",
    "AREACONO = PI * RADIO * GENERATRIZ\n",
    "\n",
    "print(\"AREACONO : \", AREACONO )\n"
   ]
  },
  {
   "cell_type": "code",
   "execution_count": 1,
   "metadata": {
    "colab": {
     "base_uri": "https://localhost:8080/",
     "height": 51
    },
    "colab_type": "code",
    "id": "Oj1GZMbHgK0Z",
    "outputId": "7f6782d1-b124-4ec0-83b7-63eeb7414a6c"
   },
   "outputs": [
    {
     "name": "stdout",
     "output_type": "stream",
     "text": [
      "ingrese RADIO:10\n",
      "AREAESFERA :  1256.6000000000001\n"
     ]
    }
   ],
   "source": [
    "# ESFERA\n",
    "# A = 4 * PI * R * R\n",
    "# AREAESFERA = 4 * PI * RADIO * RADIO\n",
    "# AREAESFERA = 4 * PI * RADIO**2\n",
    "PI = 3.1415\n",
    "\n",
    "RADIO = int(input(\"ingrese RADIO:\" ))\n",
    "\n",
    "AREAESFERA = 4 * PI * RADIO**2\n",
    "\n",
    "print(\"AREAESFERA : \", AREAESFERA )\n"
   ]
  },
  {
   "cell_type": "code",
   "execution_count": null,
   "metadata": {},
   "outputs": [],
   "source": []
  }
 ],
 "metadata": {
  "colab": {
   "collapsed_sections": [],
   "name": "colab002.ipynb",
   "provenance": []
  },
  "kernelspec": {
   "display_name": "Python 3",
   "language": "python",
   "name": "python3"
  },
  "language_info": {
   "codemirror_mode": {
    "name": "ipython",
    "version": 3
   },
   "file_extension": ".py",
   "mimetype": "text/x-python",
   "name": "python",
   "nbconvert_exporter": "python",
   "pygments_lexer": "ipython3",
   "version": "3.7.1"
  }
 },
 "nbformat": 4,
 "nbformat_minor": 1
}
