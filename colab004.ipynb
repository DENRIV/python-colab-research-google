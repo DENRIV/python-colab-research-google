{
 "cells": [
  {
   "cell_type": "code",
   "execution_count": 11,
   "metadata": {
    "colab": {
     "base_uri": "https://localhost:8080/",
     "height": 51
    },
    "colab_type": "code",
    "id": "4s2-hnpFsCXj",
    "outputId": "6132d52d-da2d-4611-d0a4-689fc4babc1e"
   },
   "outputs": [
    {
     "name": "stdout",
     "output_type": "stream",
     "text": [
      "1.75\n",
      "0.9\n"
     ]
    }
   ],
   "source": [
    "# LOGIST.\n",
    "item1   = \"LAPICERO\"\n",
    "item2   = \"LAPIZ\"\n",
    "precio1 = 2 \n",
    "precio2 = 1\n",
    "costo1  = 0.25\n",
    "costo2  = 0.10\n",
    "\n",
    "# UTILIDAD = PRECIO - COSTO\n",
    "utilidad1 = precio1 - costo1\n",
    "utilidad2 = precio2 - costo2\n",
    "\n",
    "print(utilidad1)\n",
    "print(utilidad2)"
   ]
  },
  {
   "cell_type": "code",
   "execution_count": 2,
   "metadata": {
    "colab": {
     "base_uri": "https://localhost:8080/",
     "height": 51
    },
    "colab_type": "code",
    "id": "tfxzicsWsOOX",
    "outputId": "19d5eec7-87d9-45cd-95dd-0be9777fb6b2"
   },
   "outputs": [
    {
     "name": "stdout",
     "output_type": "stream",
     "text": [
      "LAPICERO 1.75\n",
      "LAPIZ 0.9\n"
     ]
    }
   ],
   "source": [
    "# LOGIST.\n",
    "item1   = \"LAPICERO\"\n",
    "item2   = \"LAPIZ\"\n",
    "precio1 = 2 \n",
    "precio2 = 1\n",
    "costo1  = 0.25\n",
    "costo2  = 0.10\n",
    "\n",
    "# UTILIDAD = PRECIO - COSTO\n",
    "utilidad1 = precio1 - costo1\n",
    "utilidad2 = precio2 - costo2\n",
    "\n",
    "print(item1,utilidad1)\n",
    "print(item2,utilidad2)"
   ]
  },
  {
   "cell_type": "code",
   "execution_count": 3,
   "metadata": {
    "colab": {
     "base_uri": "https://localhost:8080/",
     "height": 51
    },
    "colab_type": "code",
    "id": "Vj__gwQPsUWI",
    "outputId": "aaf47a47-325d-49d5-d3bf-b3d985a2e146"
   },
   "outputs": [
    {
     "name": "stdout",
     "output_type": "stream",
     "text": [
      "utilidad LAPICERO 1.75\n",
      "utilidad LAPIZ 0.9\n"
     ]
    }
   ],
   "source": [
    "# LOGIST.\n",
    "item1   = \"LAPICERO\"\n",
    "item2   = \"LAPIZ\"\n",
    "precio1 = 2 \n",
    "precio2 = 1\n",
    "costo1  = 0.25\n",
    "costo2  = 0.10\n",
    "\n",
    "# UTILIDAD = PRECIO - COSTO\n",
    "utilidad1 = precio1 - costo1\n",
    "utilidad2 = precio2 - costo2\n",
    "\n",
    "print(\"utilidad\",item1,utilidad1)\n",
    "print(\"utilidad\",item2,utilidad2)\n"
   ]
  },
  {
   "cell_type": "code",
   "execution_count": 8,
   "metadata": {
    "colab": {
     "base_uri": "https://localhost:8080/",
     "height": 68
    },
    "colab_type": "code",
    "id": "39YcqcpqsdMV",
    "outputId": "3290d62a-804c-474a-ed5c-09eab9f52bbf"
   },
   "outputs": [
    {
     "name": "stdout",
     "output_type": "stream",
     "text": [
      "VALOR DE PRODUCTOS\n",
      "20000\n",
      "40000\n"
     ]
    }
   ],
   "source": [
    "# LOGIST.\n",
    "item1   = \"LAPICERO\"\n",
    "item2   = \"LAPIZ\"\n",
    "precio1 = 2 \n",
    "precio2 = 1\n",
    "costo1  = 0.25\n",
    "costo2  = 0.10\n",
    "unidades1 = 10000\n",
    "unidades2 = 40000\n",
    "\n",
    "# UTILIDAD = PRECIO - COSTO\n",
    "utilidad1 = precio1 - costo1\n",
    "utilidad2 = precio2 - costo2\n",
    "\n",
    "print(\"VALOR DE PRODUCTOS\")\n",
    "valorprecio1 = precio1 * unidades1\n",
    "valorprecio2 = precio2 * unidades2\n",
    "\n",
    "print(valorprecio1)\n",
    "print(valorprecio2)\n"
   ]
  },
  {
   "cell_type": "code",
   "execution_count": 9,
   "metadata": {
    "colab": {
     "base_uri": "https://localhost:8080/",
     "height": 68
    },
    "colab_type": "code",
    "id": "mrVpsZtLtOme",
    "outputId": "efa94419-0b06-4b2f-c32b-95a90dc0a07c"
   },
   "outputs": [
    {
     "name": "stdout",
     "output_type": "stream",
     "text": [
      "VALOR DE PRODUCTOS\n",
      "LAPICERO 20000\n",
      "LAPIZ 40000\n"
     ]
    }
   ],
   "source": [
    "# LOGIST.\n",
    "item1   = \"LAPICERO\"\n",
    "item2   = \"LAPIZ\"\n",
    "precio1 = 2 \n",
    "precio2 = 1\n",
    "costo1  = 0.25\n",
    "costo2  = 0.10\n",
    "unidades1 = 10000\n",
    "unidades2 = 40000\n",
    "\n",
    "# UTILIDAD = PRECIO - COSTO\n",
    "utilidad1 = precio1 - costo1\n",
    "utilidad2 = precio2 - costo2\n",
    "\n",
    "print(\"VALOR DE PRODUCTOS\")\n",
    "valorprecio1 = precio1 * unidades1\n",
    "valorprecio2 = precio2 * unidades2\n",
    "\n",
    "print(item1,valorprecio1)\n",
    "print(item2,valorprecio2)"
   ]
  },
  {
   "cell_type": "code",
   "execution_count": 7,
   "metadata": {
    "colab": {
     "base_uri": "https://localhost:8080/",
     "height": 68
    },
    "colab_type": "code",
    "id": "tjGHGWcQtUFx",
    "outputId": "761edce3-2fda-4296-8856-85decc494bc3"
   },
   "outputs": [
    {
     "name": "stdout",
     "output_type": "stream",
     "text": [
      "COSTO DE PRODUCTOS\n",
      "LAPICERO 2500.0\n",
      "LAPIZ 4000.0\n"
     ]
    }
   ],
   "source": [
    "# LOGIST.\n",
    "item1   = \"LAPICERO\"\n",
    "item2   = \"LAPIZ\"\n",
    "precio1 = 2 \n",
    "precio2 = 1\n",
    "costo1  = 0.25\n",
    "costo2  = 0.10\n",
    "unidades1 = 10000\n",
    "unidades2 = 40000\n",
    "\n",
    "# UTILIDAD = PRECIO - COSTO\n",
    "utilidad1 = precio1 - costo1\n",
    "utilidad2 = precio2 - costo2\n",
    "\n",
    "print(\"COSTO DE PRODUCTOS\")\n",
    "valorcosto1 = costo1 * unidades1\n",
    "valorcosto2 = costo2 * unidades2\n",
    "\n",
    "print(item1,valorcosto1)\n",
    "print(item2,valorcosto2)"
   ]
  },
  {
   "cell_type": "code",
   "execution_count": 10,
   "metadata": {
    "colab": {
     "base_uri": "https://localhost:8080/",
     "height": 119
    },
    "colab_type": "code",
    "id": "enKJ-EHqt0tz",
    "outputId": "2f67f9a9-12b6-4122-9300-8ed2072e4377"
   },
   "outputs": [
    {
     "name": "stdout",
     "output_type": "stream",
     "text": [
      "COSTO DE PRODUCTOS\n",
      "LAPICERO 2500.0\n",
      "LAPIZ 4000.0\n",
      "VALOR DE PRODUCTOS\n",
      "LAPICERO 20000\n",
      "LAPIZ 40000\n"
     ]
    }
   ],
   "source": [
    "# LOGIST.\n",
    "item1   = \"LAPICERO\"\n",
    "item2   = \"LAPIZ\"\n",
    "precio1 = 2 \n",
    "precio2 = 1\n",
    "costo1  = 0.25\n",
    "costo2  = 0.10\n",
    "unidades1 = 10000\n",
    "unidades2 = 40000\n",
    "\n",
    "# UTILIDAD = PRECIO - COSTO\n",
    "utilidad1 = precio1 - costo1\n",
    "utilidad2 = precio2 - costo2\n",
    "\n",
    "print(\"COSTO DE PRODUCTOS\")\n",
    "valorcosto1 = costo1 * unidades1\n",
    "valorcosto2 = costo2 * unidades2\n",
    "\n",
    "print(item1,valorcosto1)\n",
    "print(item2,valorcosto2)\n",
    "\n",
    "print(\"VALOR DE PRODUCTOS\")\n",
    "valorprecio1 = precio1 * unidades1\n",
    "valorprecio2 = precio2 * unidades2\n",
    "\n",
    "print(item1,valorprecio1)\n",
    "print(item2,valorprecio2)"
   ]
  },
  {
   "cell_type": "code",
   "execution_count": 12,
   "metadata": {
    "colab": {
     "base_uri": "https://localhost:8080/",
     "height": 170
    },
    "colab_type": "code",
    "id": "85g94MOyuRA2",
    "outputId": "0970a33d-b84b-497b-f06b-3e8bdac6a99d"
   },
   "outputs": [
    {
     "name": "stdout",
     "output_type": "stream",
     "text": [
      "COSTO DE PRODUCTOS\n",
      "LAPICERO 2500.0\n",
      "LAPIZ 4000.0\n",
      "VALOR DE PRODUCTOS\n",
      "LAPICERO 20000\n",
      "LAPIZ 40000\n",
      "UTILIDAD DE PRODUCTOS\n",
      "LAPICERO 17500.0\n",
      "LAPIZ 17500.0\n"
     ]
    }
   ],
   "source": [
    "# LOGIST.\n",
    "item1   = \"LAPICERO\"\n",
    "item2   = \"LAPIZ\"\n",
    "precio1 = 2 \n",
    "precio2 = 1\n",
    "costo1  = 0.25\n",
    "costo2  = 0.10\n",
    "unidades1 = 10000\n",
    "unidades2 = 40000\n",
    "\n",
    "# UTILIDAD = PRECIO - COSTO\n",
    "utilidad1 = precio1 - costo1\n",
    "utilidad2 = precio2 - costo2\n",
    "\n",
    "print(\"COSTO DE PRODUCTOS\")\n",
    "valorcosto1 = costo1 * unidades1\n",
    "valorcosto2 = costo2 * unidades2\n",
    "\n",
    "print(item1,valorcosto1)\n",
    "print(item2,valorcosto2)\n",
    "\n",
    "print(\"VALOR DE PRODUCTOS\")\n",
    "valorprecio1 = precio1 * unidades1\n",
    "valorprecio2 = precio2 * unidades2\n",
    "\n",
    "print(item1,valorprecio1)\n",
    "print(item2,valorprecio2)\n",
    "\n",
    "print(\"UTILIDAD DE PRODUCTOS\")\n",
    "utilidadproducto1 = valorprecio1 - valorcosto1\n",
    "utilidadproducto2 = valorprecio2 - valorcosto2\n",
    "\n",
    "print(item1,utilidadproducto1)\n",
    "print(item2,utilidadproducto1)\n"
   ]
  },
  {
   "cell_type": "code",
   "execution_count": 13,
   "metadata": {
    "colab": {
     "base_uri": "https://localhost:8080/",
     "height": 204
    },
    "colab_type": "code",
    "id": "Fg5v-e3UuqEa",
    "outputId": "2a5e7028-64d3-48fb-8f1c-18a6479a7991"
   },
   "outputs": [
    {
     "name": "stdout",
     "output_type": "stream",
     "text": [
      "COSTO DE PRODUCTOS\n",
      "LAPICERO 2500.0\n",
      "LAPIZ 4000.0\n",
      "VALOR DE PRODUCTOS\n",
      "LAPICERO 20000\n",
      "LAPIZ 40000\n",
      "UTILIDAD DE PRODUCTOS\n",
      "LAPICERO 17500.0\n",
      "LAPIZ 36000.0\n",
      "LAPICERO 17500.0\n",
      "LAPIZ 36000.0\n"
     ]
    }
   ],
   "source": [
    "# LOGIST.\n",
    "item1   = \"LAPICERO\"\n",
    "item2   = \"LAPIZ\"\n",
    "precio1 = 2 \n",
    "precio2 = 1\n",
    "costo1  = 0.25\n",
    "costo2  = 0.10\n",
    "unidades1 = 10000\n",
    "unidades2 = 40000\n",
    "\n",
    "# UTILIDAD = PRECIO - COSTO\n",
    "utilidadxunidad1 = precio1 - costo1\n",
    "utilidadxunidad2 = precio2 - costo2\n",
    "\n",
    "print(\"COSTO DE PRODUCTOS\")\n",
    "valorcosto1 = costo1 * unidades1\n",
    "valorcosto2 = costo2 * unidades2\n",
    "\n",
    "print(item1,valorcosto1)\n",
    "print(item2,valorcosto2)\n",
    "\n",
    "print(\"VALOR DE PRODUCTOS\")\n",
    "valorprecio1 = precio1 * unidades1\n",
    "valorprecio2 = precio2 * unidades2\n",
    "\n",
    "print(item1,valorprecio1)\n",
    "print(item2,valorprecio2)\n",
    "\n",
    "print(\"UTILIDAD DE PRODUCTOS\")\n",
    "utilidadproducto1 = valorprecio1 - valorcosto1\n",
    "utilidadproducto2 = valorprecio2 - valorcosto2\n",
    "\n",
    "print(item1,utilidadproducto1)\n",
    "print(item2,utilidadproducto2)\n",
    "\n",
    "print(item1,utilidadxunidad1 * unidades1)\n",
    "print(item2,utilidadxunidad2 * unidades2)\n"
   ]
  },
  {
   "cell_type": "code",
   "execution_count": 14,
   "metadata": {
    "colab": {
     "base_uri": "https://localhost:8080/",
     "height": 34
    },
    "colab_type": "code",
    "id": "wQNW6I0OvGZm",
    "outputId": "b57576f2-f889-434f-90bb-ee01fe41b726"
   },
   "outputs": [
    {
     "name": "stdout",
     "output_type": "stream",
     "text": [
      "['LAPICERO', 'LAPIZ']\n"
     ]
    }
   ],
   "source": [
    "# item1   = \"LAPICERO\"\n",
    "# item2   = \"LAPIZ\"\n",
    "item = [ \"LAPICERO\", \"LAPIZ\" ]\n",
    "print(item)"
   ]
  },
  {
   "cell_type": "code",
   "execution_count": 15,
   "metadata": {
    "colab": {
     "base_uri": "https://localhost:8080/",
     "height": 51
    },
    "colab_type": "code",
    "id": "kg5iVXb0vTJB",
    "outputId": "f84db957-6342-4387-bcfc-beb820e16e00"
   },
   "outputs": [
    {
     "name": "stdout",
     "output_type": "stream",
     "text": [
      "['LAPICERO', 'LAPIZ']\n",
      "[1, 2]\n"
     ]
    }
   ],
   "source": [
    "# item1   = \"LAPICERO\"\n",
    "# item2   = \"LAPIZ\"\n",
    "item = [ \"LAPICERO\", \"LAPIZ\" ]\n",
    "\n",
    "precio = [2,1]\n",
    "\n",
    "print(item)\n",
    "print(precio)\n"
   ]
  },
  {
   "cell_type": "code",
   "execution_count": 14,
   "metadata": {
    "colab": {
     "base_uri": "https://localhost:8080/",
     "height": 51
    },
    "colab_type": "code",
    "id": "0JlJ1662vcva",
    "outputId": "dc44cb86-3120-4369-838d-e7ade5a08cd8"
   },
   "outputs": [
    {
     "name": "stdout",
     "output_type": "stream",
     "text": [
      "item ['LAPICERO', 'LAPIZ']\n",
      "precio [2, 1]\n"
     ]
    }
   ],
   "source": [
    "# item1   = \"LAPICERO\"\n",
    "# item2   = \"LAPIZ\"\n",
    "item = [ \"LAPICERO\", \"LAPIZ\" ]\n",
    "\n",
    "precio = [2,1]\n",
    "\n",
    "print(\"item\",item)\n",
    "print(\"precio\",precio)\n"
   ]
  },
  {
   "cell_type": "code",
   "execution_count": 15,
   "metadata": {
    "colab": {
     "base_uri": "https://localhost:8080/",
     "height": 85
    },
    "colab_type": "code",
    "id": "WOcSgs5zvh1C",
    "outputId": "12c1a7ed-9ba0-40e8-a1db-16d3c4e0063a"
   },
   "outputs": [
    {
     "name": "stdout",
     "output_type": "stream",
     "text": [
      "item ['LAPICERO', 'LAPIZ']\n",
      "precio [2, 1]\n",
      "costo [0.25, 0.1]\n",
      "unidades [10000, 40000]\n"
     ]
    }
   ],
   "source": [
    "# item1   = \"LAPICERO\"\n",
    "# item2   = \"LAPIZ\"\n",
    "item = [ \"LAPICERO\", \"LAPIZ\" ]\n",
    "\n",
    "precio = [2,1]\n",
    "\n",
    "costo = [0.25,0.10]\n",
    "\n",
    "unidades = [10000,40000]\n",
    "\n",
    "print(\"item\",item)\n",
    "print(\"precio\",precio)\n",
    "\n",
    "print(\"costo\",costo)\n",
    "print(\"unidades\",unidades)\n",
    "\n"
   ]
  },
  {
   "cell_type": "code",
   "execution_count": 18,
   "metadata": {
    "colab": {},
    "colab_type": "code",
    "id": "tq3gqew-v5fp"
   },
   "outputs": [
    {
     "name": "stdout",
     "output_type": "stream",
     "text": [
      "item ['LAPICERO', 'LAPIZ']\n",
      "precio [2, 1]\n",
      "costo [0.25, 0.1]\n",
      "unidades [10000, 40000]\n"
     ]
    }
   ],
   "source": [
    "# item1   = \"LAPICERO\"\n",
    "# item2   = \"LAPIZ\"\n",
    "item = [ \"LAPICERO\", \"LAPIZ\" ]\n",
    "\n",
    "precio = [2,1]\n",
    "\n",
    "costo = [0.25,0.10]\n",
    "\n",
    "unidades = [10000,40000]\n",
    "\n",
    "print(\"item\",item)\n",
    "print(\"precio\",precio)\n",
    "\n",
    "print(\"costo\",costo)\n",
    "print(\"unidades\",unidades)\n",
    "\n",
    "# LA LISTAS SE COMIENZAN A CONTAR DESDE LA POSICION O (CERO)\n",
    "\n",
    "# UTILIDAD[i] = unidades[i] * ( precio[i] - costo[i] )\n"
   ]
  },
  {
   "cell_type": "code",
   "execution_count": 19,
   "metadata": {},
   "outputs": [
    {
     "name": "stdout",
     "output_type": "stream",
     "text": [
      "LAPICERO\n",
      "LAPIZ\n"
     ]
    }
   ],
   "source": [
    "# item1   = \"LAPICERO\"\n",
    "# item2   = \"LAPIZ\"\n",
    "item = [ \"LAPICERO\", \"LAPIZ\" ]\n",
    "precio = [2,1]\n",
    "costo = [0.25,0.10]\n",
    "unidades = [10000,40000]\n",
    "\n",
    "for x in item:\n",
    "    print(x)\n"
   ]
  },
  {
   "cell_type": "code",
   "execution_count": 21,
   "metadata": {},
   "outputs": [
    {
     "name": "stdout",
     "output_type": "stream",
     "text": [
      "LAPICERO\n",
      "LAPIZ\n",
      "2\n",
      "1\n",
      "0.25\n",
      "0.1\n",
      "10000\n",
      "40000\n"
     ]
    }
   ],
   "source": [
    "# item1   = \"LAPICERO\"\n",
    "# item2   = \"LAPIZ\"\n",
    "item = [ \"LAPICERO\", \"LAPIZ\" ]\n",
    "precio = [2,1]\n",
    "costo = [0.25,0.10]\n",
    "unidades = [10000,40000]\n",
    "\n",
    "for x in item:\n",
    "  print(x)\n",
    "for x in precio:\n",
    "  print(x)\n",
    "for x in costo:\n",
    "  print(x)\n",
    "for x in unidades:\n",
    "  print(x)"
   ]
  },
  {
   "cell_type": "code",
   "execution_count": 24,
   "metadata": {},
   "outputs": [
    {
     "name": "stdout",
     "output_type": "stream",
     "text": [
      "0\n",
      "1\n"
     ]
    }
   ],
   "source": [
    "# item1   = \"LAPICERO\"\n",
    "# item2   = \"LAPIZ\"\n",
    "item = [ \"LAPICERO\", \"LAPIZ\" ]\n",
    "precio = [2,1]\n",
    "costo = [0.25,0.10]\n",
    "unidades = [10000,40000]\n",
    "\n",
    "# 0, 1\n",
    "for i in range(2):\n",
    "  print(i)\n"
   ]
  },
  {
   "cell_type": "code",
   "execution_count": 34,
   "metadata": {},
   "outputs": [
    {
     "name": "stdout",
     "output_type": "stream",
     "text": [
      "LAPICERO 2 0.25 10000\n",
      "LAPIZ 1 0.1 40000\n"
     ]
    }
   ],
   "source": [
    "# item1   = \"LAPICERO\"\n",
    "# item2   = \"LAPIZ\"\n",
    "item = [ \"LAPICERO\", \"LAPIZ\" ]\n",
    "precio = [2,1]\n",
    "costo = [0.25,0.10]\n",
    "unidades = [10000,40000]\n",
    "\n",
    "# UTILIDAD[i] = unidades[i] * ( precio[i] - costo[i] )\n",
    "for i in range(2):\n",
    "  print(item[i] , precio[i] , costo[i], unidades[i] )\n",
    "    "
   ]
  },
  {
   "cell_type": "code",
   "execution_count": 35,
   "metadata": {},
   "outputs": [
    {
     "name": "stdout",
     "output_type": "stream",
     "text": [
      "1.75\n",
      "0.9\n"
     ]
    }
   ],
   "source": [
    "# item1   = \"LAPICERO\"\n",
    "# item2   = \"LAPIZ\"\n",
    "item = [ \"LAPICERO\", \"LAPIZ\" ]\n",
    "precio = [2,1]\n",
    "costo = [0.25,0.10]\n",
    "unidades = [10000,40000]\n",
    "\n",
    "# UTILIDAD[i] = unidades[i] * ( precio[i] - costo[i] )\n",
    "for i in range(2):\n",
    "  utilidadxItem =   ( precio[i] - costo[i] )\n",
    "  print(utilidadxItem)"
   ]
  },
  {
   "cell_type": "code",
   "execution_count": 36,
   "metadata": {},
   "outputs": [
    {
     "name": "stdout",
     "output_type": "stream",
     "text": [
      "17500.0\n",
      "36000.0\n"
     ]
    }
   ],
   "source": [
    "# item1   = \"LAPICERO\"\n",
    "# item2   = \"LAPIZ\"\n",
    "item = [ \"LAPICERO\", \"LAPIZ\" ]\n",
    "precio = [2,1]\n",
    "costo = [0.25,0.10]\n",
    "unidades = [10000,40000]\n",
    "\n",
    "# UTILIDAD[i] = unidades[i] * ( precio[i] - costo[i] )\n",
    "for i in range(2):\n",
    "  utilidadTotalxItem =  unidades[i] * ( precio[i] - costo[i] )\n",
    "  print(utilidadTotalxItem)"
   ]
  },
  {
   "cell_type": "code",
   "execution_count": 37,
   "metadata": {},
   "outputs": [
    {
     "name": "stdout",
     "output_type": "stream",
     "text": [
      "[7500.0, 76000.0]\n"
     ]
    }
   ],
   "source": [
    "# item1   = \"LAPICERO\"\n",
    "# item2   = \"LAPIZ\"\n",
    "item = [ \"LAPICERO\", \"LAPIZ\" ]\n",
    "precio = [1,2]\n",
    "costo = [0.25,0.10]\n",
    "unidades = [10000,40000]\n",
    "utilidad = [0,0]\n",
    "# UTILIDAD[i] = unidades[i] * ( precio[i] - costo[i] )\n",
    "for i in range(2):\n",
    "  utilidad[i] =  unidades[i] * ( precio[i] - costo[i] )\n",
    "\n",
    "print(utilidad)"
   ]
  },
  {
   "cell_type": "code",
   "execution_count": 38,
   "metadata": {},
   "outputs": [
    {
     "name": "stdout",
     "output_type": "stream",
     "text": [
      "[17500.0, 36000.0]\n",
      "53500.0\n"
     ]
    }
   ],
   "source": [
    "item = [ \"LAPICERO\", \"LAPIZ\" ]\n",
    "precio = [2,1]\n",
    "costo = [0.25,0.10]\n",
    "unidades = [10000,40000]\n",
    "utilidad = [0,0]\n",
    "\n",
    "utilidadGeneral = 0\n",
    "for i in range(2):\n",
    "  utilidad[i] =  unidades[i] * ( precio[i] - costo[i] )\n",
    "  utilidadGeneral = utilidadGeneral + utilidad[i]\n",
    "\n",
    "print(utilidad)\n",
    "print(utilidadGeneral)"
   ]
  },
  {
   "cell_type": "code",
   "execution_count": 39,
   "metadata": {},
   "outputs": [
    {
     "name": "stdout",
     "output_type": "stream",
     "text": [
      "utilidad:  [17500.0, 36000.0]\n",
      "utilidadGeneral:  53500.0\n"
     ]
    }
   ],
   "source": [
    "item = [ \"LAPICERO\", \"LAPIZ\" ]\n",
    "precio = [2,1]\n",
    "costo = [0.25,0.10]\n",
    "unidades = [10000,40000]\n",
    "utilidad = [0,0]\n",
    "\n",
    "utilidadGeneral = 0\n",
    "for i in range(2):\n",
    "  utilidad[i] =  unidades[i] * ( precio[i] - costo[i] )\n",
    "  utilidadGeneral = utilidadGeneral + utilidad[i]\n",
    "\n",
    "print(\"utilidad: \",utilidad)\n",
    "print(\"utilidadGeneral: \",utilidadGeneral)"
   ]
  },
  {
   "cell_type": "code",
   "execution_count": 40,
   "metadata": {},
   "outputs": [
    {
     "name": "stdout",
     "output_type": "stream",
     "text": [
      "item ['LAPICERO', 'LAPIZ']\n",
      "precio [2, 1]\n",
      "costo [0.25, 0.1]\n",
      "unidades [10000, 40000]\n",
      "utilidad:  [17500.0, 36000.0]\n",
      "utilidadGeneral:  53500.0\n"
     ]
    }
   ],
   "source": [
    "item = [ \"LAPICERO\", \"LAPIZ\" ]\n",
    "precio = [2,1]\n",
    "costo = [0.25,0.10]\n",
    "unidades = [10000,40000]\n",
    "utilidad = [0,0]\n",
    "\n",
    "utilidadGeneral = 0\n",
    "for i in range(2):\n",
    "  utilidad[i] =  unidades[i] * ( precio[i] - costo[i] )\n",
    "  utilidadGeneral = utilidadGeneral + utilidad[i]\n",
    "\n",
    "print(\"item\",item)\n",
    "print(\"precio\",precio)\n",
    "\n",
    "print(\"costo\",costo)\n",
    "print(\"unidades\",unidades)\n",
    "\n",
    "print(\"utilidad: \",utilidad)\n",
    "print(\"utilidadGeneral: \",utilidadGeneral)"
   ]
  },
  {
   "cell_type": "code",
   "execution_count": 44,
   "metadata": {},
   "outputs": [
    {
     "name": "stdout",
     "output_type": "stream",
     "text": [
      "item ['mascarilla', 'alcohol96°', 'alcoholgel']\n",
      "precio [25, 17, 15]\n",
      "costo [0.15, 0.11, 0.1]\n",
      "unidades [500, 300, 250]\n",
      "utilidad:  [12425.0, 5067.0, 3725.0]\n",
      "utilidadGeneral:  21217.0\n"
     ]
    }
   ],
   "source": [
    "\n",
    "item1 = \"mascarilla\"\n",
    "item2 = \"alcohol96°\"\n",
    "item3 = \"alcoholgel\"\n",
    "precio1 = 25\n",
    "precio2 = 17\n",
    "precio3 = 15\n",
    "costo1 = 0.15\n",
    "costo2 = 0.11\n",
    "costo3 = 0.10\n",
    "unidades1 = 500\n",
    "unidades2 = 300\n",
    "unidades3 = 250\n",
    "\n",
    "item = [ item1, item2, item3 ]\n",
    "precio = [precio1,precio2,precio3]\n",
    "costo = [costo1,costo2,costo3]\n",
    "unidades = [unidades1,unidades2,unidades3]\n",
    "utilidad = [0,0,0]\n",
    "\n",
    "utilidadGeneral = 0\n",
    "# i = (0,1,2)\n",
    "for i in range(3):\n",
    "  utilidad[i] =  unidades[i] * ( precio[i] - costo[i] )\n",
    "  utilidadGeneral = utilidadGeneral + utilidad[i]\n",
    "\n",
    "print(\"item\",item)\n",
    "print(\"precio\",precio)\n",
    "\n",
    "print(\"costo\",costo)\n",
    "print(\"unidades\",unidades)\n",
    "\n",
    "print(\"utilidad: \",utilidad)\n",
    "print(\"utilidadGeneral: \",utilidadGeneral)"
   ]
  },
  {
   "cell_type": "code",
   "execution_count": null,
   "metadata": {},
   "outputs": [],
   "source": []
  }
 ],
 "metadata": {
  "colab": {
   "collapsed_sections": [],
   "name": "colab003.ipynb",
   "provenance": []
  },
  "kernelspec": {
   "display_name": "Python 3",
   "language": "python",
   "name": "python3"
  },
  "language_info": {
   "codemirror_mode": {
    "name": "ipython",
    "version": 3
   },
   "file_extension": ".py",
   "mimetype": "text/x-python",
   "name": "python",
   "nbconvert_exporter": "python",
   "pygments_lexer": "ipython3",
   "version": "3.7.1"
  }
 },
 "nbformat": 4,
 "nbformat_minor": 1
}
