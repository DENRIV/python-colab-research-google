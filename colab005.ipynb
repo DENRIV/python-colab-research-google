{
 "cells": [
  {
   "cell_type": "code",
   "execution_count": 7,
   "metadata": {},
   "outputs": [
    {
     "name": "stdout",
     "output_type": "stream",
     "text": [
      "item ['ITEM-1', 'ITEM-2', 'ITEM-3', 'ITEM-4']\n",
      "precio [4, 2, 10.5, 5]\n"
     ]
    }
   ],
   "source": [
    "item = [ \"ITEM-1\", \"ITEM-2\", \"ITEM-3\", \"ITEM-4\" ]\n",
    "precio = [4,2,10.5, 5]\n",
    "\n",
    "print(\"item\",item)\n",
    "print(\"precio\",precio)"
   ]
  },
  {
   "cell_type": "code",
   "execution_count": 8,
   "metadata": {},
   "outputs": [
    {
     "name": "stdout",
     "output_type": "stream",
     "text": [
      "ITEM-1 4\n",
      "ITEM-2 2\n"
     ]
    }
   ],
   "source": [
    "item = [ \"ITEM-1\", \"ITEM-2\", \"ITEM-3\", \"ITEM-4\" ]\n",
    "precio = [4,2,10.5, 5]\n",
    "\n",
    "for i in range(2):\n",
    "    print(item[i], precio[i])\n",
    "    "
   ]
  },
  {
   "cell_type": "code",
   "execution_count": 10,
   "metadata": {},
   "outputs": [
    {
     "name": "stdout",
     "output_type": "stream",
     "text": [
      "ITEM-1 4\n",
      "ITEM-2 2\n",
      "ITEM-3 10.5\n"
     ]
    }
   ],
   "source": [
    "item = [ \"ITEM-1\", \"ITEM-2\", \"ITEM-3\", \"ITEM-4\" ]\n",
    "precio = [4,2,10.5, 5]\n",
    "\n",
    "for i in range(3):\n",
    "    print(item[i], precio[i])"
   ]
  },
  {
   "cell_type": "code",
   "execution_count": 11,
   "metadata": {
    "scrolled": true
   },
   "outputs": [
    {
     "name": "stdout",
     "output_type": "stream",
     "text": [
      "ITEM-1 4\n",
      "ITEM-2 2\n",
      "ITEM-3 10.5\n",
      "ITEM-4 5\n"
     ]
    }
   ],
   "source": [
    "item = [ \"ITEM-1\", \"ITEM-2\", \"ITEM-3\", \"ITEM-4\" ]\n",
    "precio = [4,2,10.5, 5]\n",
    "\n",
    "for i in range(4):\n",
    "    print(item[i], precio[i])"
   ]
  },
  {
   "cell_type": "code",
   "execution_count": 12,
   "metadata": {},
   "outputs": [
    {
     "name": "stdout",
     "output_type": "stream",
     "text": [
      "TotalElementos 4\n",
      "ITEM-1 4\n",
      "ITEM-2 2\n",
      "ITEM-3 10.5\n",
      "ITEM-4 5\n"
     ]
    }
   ],
   "source": [
    "item = [ \"ITEM-1\", \"ITEM-2\", \"ITEM-3\", \"ITEM-4\" ]\n",
    "precio = [4,2,10.5, 5]\n",
    "\n",
    "TotalElementos = len(item)\n",
    "print(\"TotalElementos\",TotalElementos)\n",
    "\n",
    "for i in range(4):\n",
    "    print(item[i], precio[i])\n",
    "    "
   ]
  },
  {
   "cell_type": "code",
   "execution_count": 13,
   "metadata": {},
   "outputs": [
    {
     "name": "stdout",
     "output_type": "stream",
     "text": [
      "TotalElementos 4\n",
      "ITEM-1 4\n",
      "ITEM-2 2\n",
      "ITEM-3 10.5\n",
      "ITEM-4 5\n"
     ]
    }
   ],
   "source": [
    "item = [ \"ITEM-1\", \"ITEM-2\", \"ITEM-3\", \"ITEM-4\" ]\n",
    "precio = [4,2,10.5, 5]\n",
    "\n",
    "TotalElementos = len(item)\n",
    "print(\"TotalElementos\",TotalElementos)\n",
    "\n",
    "for i in range(TotalElementos):\n",
    "    print(item[i], precio[i])"
   ]
  },
  {
   "cell_type": "code",
   "execution_count": 14,
   "metadata": {},
   "outputs": [
    {
     "name": "stdout",
     "output_type": "stream",
     "text": [
      "ITEM-1 4\n",
      "ITEM-2 2\n",
      "ITEM-3 10.5\n",
      "ITEM-4 5\n"
     ]
    }
   ],
   "source": [
    "item = [ \"ITEM-1\", \"ITEM-2\", \"ITEM-3\", \"ITEM-4\" ]\n",
    "precio = [4,2,10.5, 5]\n",
    "\n",
    "for i in range(len(item)):\n",
    "    print(item[i], precio[i])"
   ]
  },
  {
   "cell_type": "code",
   "execution_count": 15,
   "metadata": {},
   "outputs": [
    {
     "name": "stdout",
     "output_type": "stream",
     "text": [
      "item ['LAPICERO', 'LAPIZ']\n",
      "precio [2, 1]\n",
      "costo [0.25, 0.1]\n",
      "unidades [10000, 40000]\n",
      "utilidad:  [17500.0, 36000.0]\n",
      "utilidadGeneral:  53500.0\n"
     ]
    }
   ],
   "source": [
    "item = [ \"LAPICERO\", \"LAPIZ\" ]\n",
    "precio = [2,1]\n",
    "costo = [0.25,0.10]\n",
    "unidades = [10000,40000]\n",
    "utilidad = [0,0]\n",
    "\n",
    "utilidadGeneral = 0\n",
    "TotalElementos = len(item)\n",
    "for i in range(TotalElementos):\n",
    "  utilidad[i] =  unidades[i] * ( precio[i] - costo[i] )\n",
    "  utilidadGeneral = utilidadGeneral + utilidad[i]\n",
    "\n",
    "print(\"item\",item)\n",
    "print(\"precio\",precio)\n",
    "\n",
    "print(\"costo\",costo)\n",
    "print(\"unidades\",unidades)\n",
    "\n",
    "print(\"utilidad: \",utilidad)\n",
    "print(\"utilidadGeneral: \",utilidadGeneral)"
   ]
  },
  {
   "cell_type": "code",
   "execution_count": 16,
   "metadata": {},
   "outputs": [
    {
     "name": "stdout",
     "output_type": "stream",
     "text": [
      "item ['mascarilla', 'alcohol96°', 'alcoholgel']\n",
      "precio [25, 17, 15]\n",
      "costo [0.15, 0.11, 0.1]\n",
      "unidades [500, 300, 250]\n",
      "utilidad:  [12425.0, 5067.0, 3725.0]\n",
      "utilidadGeneral:  21217.0\n"
     ]
    }
   ],
   "source": [
    "\"\"\"\n",
    "item1 = \"mascarilla\"\n",
    "item2 = \"alcohol96°\"\n",
    "item3 = \"alcoholgel\"\n",
    "precio1 = 25\n",
    "precio2 = 17\n",
    "precio3 = 15\n",
    "costo1 = 0.15\n",
    "costo2 = 0.11\n",
    "costo3 = 0.10\n",
    "unidades1 = 500\n",
    "unidades2 = 300\n",
    "unidades3 = 250\n",
    "\"\"\"\n",
    "item = [ \"mascarilla\", \"alcohol96°\", \"alcoholgel\" ]\n",
    "precio = [25,17,15]\n",
    "costo = [0.15,0.11,0.10]\n",
    "unidades = [500,300,250]\n",
    "utilidad = [0,0,0]\n",
    "\n",
    "utilidadGeneral = 0\n",
    "TotalElementos = len(item)\n",
    "for i in range(TotalElementos):\n",
    "  utilidad[i] =  unidades[i] * ( precio[i] - costo[i] )\n",
    "  utilidadGeneral = utilidadGeneral + utilidad[i]\n",
    "\n",
    "print(\"item\",item)\n",
    "print(\"precio\",precio)\n",
    "\n",
    "print(\"costo\",costo)\n",
    "print(\"unidades\",unidades)\n",
    "\n",
    "print(\"utilidad: \",utilidad)\n",
    "print(\"utilidadGeneral: \",utilidadGeneral)"
   ]
  },
  {
   "cell_type": "code",
   "execution_count": 17,
   "metadata": {},
   "outputs": [
    {
     "name": "stdout",
     "output_type": "stream",
     "text": [
      "item ['mascarilla', 'alcohol96°', 'alcoholgel']\n",
      "precio [25, 17, 15]\n",
      "costo [0.15, 0.11, 0.1]\n",
      "unidades [500, 300, 250]\n",
      "utilidad:  [12425.0, 5067.0, 3725.0]\n",
      "utilidadGeneral:  21217.0\n"
     ]
    }
   ],
   "source": [
    "item = [ \"mascarilla\", \"alcohol96°\", \"alcoholgel\" ]\n",
    "precio = [25,17,15]\n",
    "costo = [0.15,0.11,0.10]\n",
    "unidades = [500,300,250]\n",
    "utilidad = [0,0,0]\n",
    "\n",
    "utilidadGeneral = 0\n",
    "TotalElementos = len(item)\n",
    "for i in range(TotalElementos):\n",
    "  utilidad[i] =  unidades[i] * ( precio[i] - costo[i] )\n",
    "  utilidadGeneral = utilidadGeneral + utilidad[i]\n",
    "\n",
    "print(\"item\",item)\n",
    "print(\"precio\",precio)\n",
    "\n",
    "print(\"costo\",costo)\n",
    "print(\"unidades\",unidades)\n",
    "\n",
    "print(\"utilidad: \",utilidad)\n",
    "print(\"utilidadGeneral: \",utilidadGeneral)"
   ]
  },
  {
   "cell_type": "code",
   "execution_count": 18,
   "metadata": {},
   "outputs": [
    {
     "name": "stdout",
     "output_type": "stream",
     "text": [
      "item ['mascarilla', 'alcohol96°', 'alcoholgel', 'N95', 'KH95']\n",
      "precio [25, 17, 15, 14, 11]\n",
      "costo [0.15, 0.11, 0.1, 8, 6]\n",
      "unidades [500, 300, 250, 50, 50]\n",
      "utilidad:  [12425.0, 5067.0, 3725.0, 300, 250]\n",
      "utilidadGeneral:  21767.0\n"
     ]
    }
   ],
   "source": [
    "item = [ \"mascarilla\", \"alcohol96°\", \"alcoholgel\",\"N95\",\"KH95\" ]\n",
    "precio = [25,17,15,14,11]\n",
    "costo = [0.15,0.11,0.10,8,6]\n",
    "unidades = [500,300,250,50,50]\n",
    "utilidad = [0,0,0,0,0]\n",
    "\n",
    "utilidadGeneral = 0\n",
    "TotalElementos = len(item)\n",
    "for i in range(TotalElementos):\n",
    "  utilidad[i] =  unidades[i] * ( precio[i] - costo[i] )\n",
    "  utilidadGeneral = utilidadGeneral + utilidad[i]\n",
    "\n",
    "print(\"item\",item)\n",
    "print(\"precio\",precio)\n",
    "\n",
    "print(\"costo\",costo)\n",
    "print(\"unidades\",unidades)\n",
    "\n",
    "print(\"utilidad: \",utilidad)\n",
    "print(\"utilidadGeneral: \",utilidadGeneral)"
   ]
  },
  {
   "cell_type": "code",
   "execution_count": 29,
   "metadata": {},
   "outputs": [
    {
     "name": "stdout",
     "output_type": "stream",
     "text": [
      "mascarilla 25\n",
      "alcohol96° 17\n",
      "alcoholgel 15\n",
      "N95 14\n",
      "KH95 11\n"
     ]
    }
   ],
   "source": [
    "item = [ \"mascarilla\", \"alcohol96°\", \"alcoholgel\",\"N95\",\"KH95\" ]\n",
    "precio = [25,17,15,14,11]\n",
    "costo = [0.15,0.11,0.10,8,6]\n",
    "unidades = [500,300,250,50,50]\n",
    "utilidad = [0,0,0,0,0]\n",
    "\n",
    "TotalElementos = len(item)\n",
    "for i in range(TotalElementos):\n",
    "    print(item[i],precio[i])"
   ]
  },
  {
   "cell_type": "code",
   "execution_count": 28,
   "metadata": {},
   "outputs": [
    {
     "name": "stdout",
     "output_type": "stream",
     "text": [
      "mascarilla 0.15\n",
      "alcohol96° 0.11\n",
      "alcoholgel 0.1\n",
      "N95 8\n",
      "KH95 6\n"
     ]
    }
   ],
   "source": [
    "item = [ \"mascarilla\", \"alcohol96°\", \"alcoholgel\",\"N95\",\"KH95\" ]\n",
    "precio = [25,17,15,14,11]\n",
    "costo = [0.15,0.11,0.10,8,6]\n",
    "unidades = [500,300,250,50,50]\n",
    "utilidad = [0,0,0,0,0]\n",
    "\n",
    "TotalElementos = len(item)\n",
    "for i in range(TotalElementos):\n",
    "    print(item[i],costo[i])"
   ]
  },
  {
   "cell_type": "code",
   "execution_count": 27,
   "metadata": {},
   "outputs": [
    {
     "name": "stdout",
     "output_type": "stream",
     "text": [
      "mascarilla 0.15\n",
      "alcohol96° 0.11\n",
      "alcoholgel 0.1\n"
     ]
    }
   ],
   "source": [
    "item = [ \"mascarilla\", \"alcohol96°\", \"alcoholgel\",\"N95\",\"KH95\" ]\n",
    "precio = [25,17,15,14,11]\n",
    "costo = [0.15,0.11,0.10,8,6]\n",
    "unidades = [500,300,250,50,50]\n",
    "utilidad = [0,0,0,0,0]\n",
    "\n",
    "TotalElementos = len(item)\n",
    "for i in range(TotalElementos):\n",
    "    if costo[i] < 1:\n",
    "        print(item[i],costo[i])"
   ]
  },
  {
   "cell_type": "code",
   "execution_count": 26,
   "metadata": {},
   "outputs": [
    {
     "name": "stdout",
     "output_type": "stream",
     "text": [
      "N95 8\n",
      "KH95 6\n"
     ]
    }
   ],
   "source": [
    "item = [ \"mascarilla\", \"alcohol96°\", \"alcoholgel\",\"N95\",\"KH95\" ]\n",
    "precio = [25,17,15,14,11]\n",
    "costo = [0.15,0.11,0.10,8,6]\n",
    "unidades = [500,300,250,50,50]\n",
    "utilidad = [0,0,0,0,0]\n",
    "\n",
    "TotalElementos = len(item)\n",
    "for i in range(TotalElementos):\n",
    "    if costo[i] > 1:\n",
    "        print(item[i],costo[i])"
   ]
  },
  {
   "cell_type": "code",
   "execution_count": 30,
   "metadata": {},
   "outputs": [
    {
     "name": "stdout",
     "output_type": "stream",
     "text": [
      "N95 8\n"
     ]
    }
   ],
   "source": [
    "item = [ \"mascarilla\", \"alcohol96°\", \"alcoholgel\",\"N95\",\"KH95\" ]\n",
    "precio = [25,17,15,14,11]\n",
    "costo = [0.15,0.11,0.10,8,6]\n",
    "unidades = [500,300,250,50,50]\n",
    "utilidad = [0,0,0,0,0]\n",
    "\n",
    "TotalElementos = len(item)\n",
    "for i in range(TotalElementos):\n",
    "    if costo[i] > 6:\n",
    "        print(item[i],costo[i])"
   ]
  },
  {
   "cell_type": "code",
   "execution_count": 31,
   "metadata": {},
   "outputs": [
    {
     "name": "stdout",
     "output_type": "stream",
     "text": [
      "N95 8\n",
      "KH95 6\n"
     ]
    }
   ],
   "source": [
    "item = [ \"mascarilla\", \"alcohol96°\", \"alcoholgel\",\"N95\",\"KH95\" ]\n",
    "precio = [25,17,15,14,11]\n",
    "costo = [0.15,0.11,0.10,8,6]\n",
    "unidades = [500,300,250,50,50]\n",
    "utilidad = [0,0,0,0,0]\n",
    "\n",
    "TotalElementos = len(item)\n",
    "for i in range(TotalElementos):\n",
    "    if costo[i] >= 6:\n",
    "        print(item[i],costo[i])"
   ]
  },
  {
   "cell_type": "code",
   "execution_count": 32,
   "metadata": {},
   "outputs": [
    {
     "name": "stdout",
     "output_type": "stream",
     "text": [
      "mascarilla 500\n",
      "alcohol96° 300\n",
      "alcoholgel 250\n"
     ]
    }
   ],
   "source": [
    "item = [ \"mascarilla\", \"alcohol96°\", \"alcoholgel\",\"N95\",\"KH95\" ]\n",
    "precio = [25,17,15,14,11]\n",
    "costo = [0.15,0.11,0.10,8,6]\n",
    "unidades = [500,300,250,50,50]\n",
    "utilidad = [0,0,0,0,0]\n",
    "\n",
    "TotalElementos = len(item)\n",
    "for i in range(TotalElementos):\n",
    "    if unidades[i] >= 100:\n",
    "        print(item[i],unidades[i])"
   ]
  },
  {
   "cell_type": "code",
   "execution_count": 36,
   "metadata": {},
   "outputs": [
    {
     "name": "stdout",
     "output_type": "stream",
     "text": [
      "item ['mascarilla', 'alcohol96°', 'alcoholgel', 'N95', 'KH95']\n",
      "precio [25, 17, 15, 14, 11]\n",
      "costo [0.15, 0.11, 0.1, 8, 6]\n",
      "unidades [500, 300, 250, 50, 50]\n",
      "utilidad:  [12425.0, 5067.0, 3725.0, 300, 250]\n",
      "utilidadGeneral:  21767.0\n",
      "porcentaje:  [57.081821105342954, 23.27835714613865, 17.113061055726558, 1.3782331051591858, 1.1485275876326548]\n",
      "sumador:  100.0\n"
     ]
    }
   ],
   "source": [
    "item = [ \"mascarilla\", \"alcohol96°\", \"alcoholgel\",\"N95\",\"KH95\" ]\n",
    "precio = [25,17,15,14,11]\n",
    "costo = [0.15,0.11,0.10,8,6]\n",
    "unidades = [500,300,250,50,50]\n",
    "utilidad = [0,0,0,0,0]\n",
    "\n",
    "porcentaje = [0,0,0,0,0]\n",
    "\n",
    "utilidadGeneral = 0\n",
    "TotalElementos = len(item)\n",
    "for i in range(TotalElementos):\n",
    "  utilidad[i] =  unidades[i] * ( precio[i] - costo[i] )\n",
    "  utilidadGeneral = utilidadGeneral + utilidad[i]\n",
    "\n",
    "print(\"item\",item)\n",
    "print(\"precio\",precio)\n",
    "\n",
    "print(\"costo\",costo)\n",
    "print(\"unidades\",unidades)\n",
    "\n",
    "print(\"utilidad: \",utilidad)\n",
    "print(\"utilidadGeneral: \",utilidadGeneral)\n",
    "\n",
    "#  x            100    \n",
    "#  12425        21767\n",
    "#\n",
    "# x = 12425 * 100 / 21767\n",
    "\n",
    "for i in range(TotalElementos):\n",
    "    porcentaje[i] = utilidad[i] * 100 / utilidadGeneral  \n",
    "\n",
    "print(\"porcentaje: \",porcentaje)\n",
    "\n",
    "sumador = 0\n",
    "for i in range(TotalElementos):\n",
    "    sumador = sumador + porcentaje[i]\n",
    "\n",
    "print(\"sumador: \",sumador)    \n"
   ]
  },
  {
   "cell_type": "code",
   "execution_count": 41,
   "metadata": {},
   "outputs": [
    {
     "name": "stdout",
     "output_type": "stream",
     "text": [
      "agua\n",
      "['mascarilla', 'alcohol96°', 'alcoholgel', 'N95', 'KH95']\n",
      "0\n",
      "1\n",
      "2\n",
      "3\n",
      "Mayor de Edad\n",
      "Menor de Edad\n"
     ]
    }
   ],
   "source": [
    "\n",
    "# variable\n",
    "item1 = \"agua\"\n",
    "print(item1)\n",
    "\n",
    "# lista\n",
    "item = [ \"mascarilla\", \"alcohol96°\", \"alcoholgel\",\"N95\",\"KH95\" ]\n",
    "print(item)\n",
    "\n",
    "# for / ciclo / loop / repeticiOn / iteraciOn\n",
    "for i in range(4):\n",
    "    print(i)\n",
    "    \n",
    "# if / condicional    \n",
    "edadA         = 20\n",
    "edadB         = 16\n",
    "mayoriaDeEdad = 18\n",
    "\n",
    "if edadA >= mayoriaDeEdad :\n",
    "    print(\"Mayor de Edad\")\n",
    "\n",
    "if edadB < mayoriaDeEdad :\n",
    "    print(\"Menor de Edad\")\n",
    "    "
   ]
  },
  {
   "cell_type": "code",
   "execution_count": null,
   "metadata": {},
   "outputs": [],
   "source": []
  }
 ],
 "metadata": {
  "kernelspec": {
   "display_name": "Python 3",
   "language": "python",
   "name": "python3"
  },
  "language_info": {
   "codemirror_mode": {
    "name": "ipython",
    "version": 3
   },
   "file_extension": ".py",
   "mimetype": "text/x-python",
   "name": "python",
   "nbconvert_exporter": "python",
   "pygments_lexer": "ipython3",
   "version": "3.7.1"
  }
 },
 "nbformat": 4,
 "nbformat_minor": 4
}
