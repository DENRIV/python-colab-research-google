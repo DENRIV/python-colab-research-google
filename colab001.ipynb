{
  "nbformat": 4,
  "nbformat_minor": 0,
  "metadata": {
    "colab": {
      "name": "colab001.ipynb",
      "provenance": [],
      "collapsed_sections": []
    },
    "kernelspec": {
      "name": "python3",
      "display_name": "Python 3"
    }
  },
  "cells": [
    {
      "cell_type": "code",
      "metadata": {
        "id": "dt6KCbc1GBvN",
        "colab_type": "code",
        "outputId": "75c48687-29bf-4a81-a611-ce00ecda6eb0",
        "colab": {
          "base_uri": "https://localhost:8080/",
          "height": 34
        }
      },
      "source": [
        "# Comentario\n",
        "\n",
        "# print imprime un texto\n",
        "print(\"Hola\")"
      ],
      "execution_count": 2,
      "outputs": [
        {
          "output_type": "stream",
          "text": [
            "Hola\n"
          ],
          "name": "stdout"
        }
      ]
    },
    {
      "cell_type": "code",
      "metadata": {
        "id": "sm9whHzPIY-z",
        "colab_type": "code",
        "outputId": "540ddce6-c9dd-4269-8003-d8d22684ea4f",
        "colab": {
          "base_uri": "https://localhost:8080/",
          "height": 34
        }
      },
      "source": [
        "# print imprime un nUmero\n",
        "print(20)"
      ],
      "execution_count": 3,
      "outputs": [
        {
          "output_type": "stream",
          "text": [
            "20\n"
          ],
          "name": "stdout"
        }
      ]
    },
    {
      "cell_type": "code",
      "metadata": {
        "id": "VxZaAoOKIoNM",
        "colab_type": "code",
        "outputId": "a87a83ef-899e-488c-a0c8-57c909d48434",
        "colab": {
          "base_uri": "https://localhost:8080/",
          "height": 34
        }
      },
      "source": [
        "# VARIABLE = VALOR\n",
        "variable = 20\n",
        "\n",
        "# print imprime una variable nUmero\n",
        "print(variable)"
      ],
      "execution_count": 4,
      "outputs": [
        {
          "output_type": "stream",
          "text": [
            "20\n"
          ],
          "name": "stdout"
        }
      ]
    },
    {
      "cell_type": "code",
      "metadata": {
        "id": "yjIFKV0bJElv",
        "colab_type": "code",
        "outputId": "b869f50b-fed3-45e6-eaeb-d9576e7c882a",
        "colab": {
          "base_uri": "https://localhost:8080/",
          "height": 34
        }
      },
      "source": [
        "# VARIABLE = VALOR\n",
        "texto = \"Hola Python\"\n",
        "\n",
        "# print imprime una variable texto\n",
        "print(texto)"
      ],
      "execution_count": 0,
      "outputs": [
        {
          "output_type": "stream",
          "text": [
            "Hola Python\n"
          ],
          "name": "stdout"
        }
      ]
    },
    {
      "cell_type": "code",
      "metadata": {
        "id": "Z8yD-U-pLu2N",
        "colab_type": "code",
        "outputId": "ac39d0d9-de92-4886-aef7-92b7c83c6310",
        "colab": {
          "base_uri": "https://localhost:8080/",
          "height": 34
        }
      },
      "source": [
        "# VARIABLE = VALOR\n",
        "a = 20\n",
        "# VARIABLE = VALOR\n",
        "b = 20\n",
        "# FORMULA    x = a+b\n",
        "x = a + b\n",
        "\n",
        "print(x)"
      ],
      "execution_count": 0,
      "outputs": [
        {
          "output_type": "stream",
          "text": [
            "40\n"
          ],
          "name": "stdout"
        }
      ]
    },
    {
      "cell_type": "code",
      "metadata": {
        "id": "n2cYe0oIMRqt",
        "colab_type": "code",
        "outputId": "156cc845-f07d-4f87-91fe-d72399b72c09",
        "colab": {
          "base_uri": "https://localhost:8080/",
          "height": 68
        }
      },
      "source": [
        "# VARIABLE = VALOR\n",
        "a = 20\n",
        "# VARIABLE = VALOR\n",
        "b = 18\n",
        "# FORMULA    x = a+b\n",
        "x = a + b\n",
        "\n",
        "print(a)\n",
        "print(b)\n",
        "print(x)"
      ],
      "execution_count": 5,
      "outputs": [
        {
          "output_type": "stream",
          "text": [
            "20\n",
            "18\n",
            "38\n"
          ],
          "name": "stdout"
        }
      ]
    },
    {
      "cell_type": "code",
      "metadata": {
        "id": "fT8EadZlMeHb",
        "colab_type": "code",
        "outputId": "01e26ad3-b75b-4590-c8c6-2e2f50fc57e8",
        "colab": {
          "base_uri": "https://localhost:8080/",
          "height": 119
        }
      },
      "source": [
        "# VARIABLE = VALOR\n",
        "a = 20\n",
        "# VARIABLE = VALOR\n",
        "b = 18\n",
        "# FORMULA    x = a+b\n",
        "x = a + b\n",
        "\n",
        "print(\"a\")\n",
        "print(a)\n",
        "print(\"b\")\n",
        "print(b)\n",
        "print(\"x\")\n",
        "print(x)"
      ],
      "execution_count": 6,
      "outputs": [
        {
          "output_type": "stream",
          "text": [
            "a\n",
            "20\n",
            "b\n",
            "18\n",
            "x\n",
            "38\n"
          ],
          "name": "stdout"
        }
      ]
    },
    {
      "cell_type": "code",
      "metadata": {
        "id": "nzrfRWCQMp0F",
        "colab_type": "code",
        "outputId": "b006b94b-dcd1-47cd-ebd0-bae95f5268d2",
        "colab": {
          "base_uri": "https://localhost:8080/",
          "height": 119
        }
      },
      "source": [
        "# VARIABLE = VALOR\n",
        "a = 20\n",
        "# VARIABLE = VALOR\n",
        "b = 18\n",
        "# FORMULA    x = a+b\n",
        "x = a + b\n",
        "\n",
        "print(\"a\")\n",
        "print(a)\n",
        "print(\"b\")\n",
        "print(b)\n",
        "print(\"x= a+b\")\n",
        "print(x)"
      ],
      "execution_count": 7,
      "outputs": [
        {
          "output_type": "stream",
          "text": [
            "a\n",
            "20\n",
            "b\n",
            "18\n",
            "x= a+b\n",
            "38\n"
          ],
          "name": "stdout"
        }
      ]
    },
    {
      "cell_type": "code",
      "metadata": {
        "id": "N0YMOgPwNGxv",
        "colab_type": "code",
        "outputId": "c5cb1189-942c-47da-c4be-8e1eacaf2643",
        "colab": {
          "base_uri": "https://localhost:8080/",
          "height": 34
        }
      },
      "source": [
        "a = 20\n",
        "\n",
        "b = 16\n",
        "\n",
        "x = (a + b) / 2\n",
        "\n",
        "print(x)\n"
      ],
      "execution_count": 0,
      "outputs": [
        {
          "output_type": "stream",
          "text": [
            "18.0\n"
          ],
          "name": "stdout"
        }
      ]
    },
    {
      "cell_type": "code",
      "metadata": {
        "id": "arZzN3XKNaRm",
        "colab_type": "code",
        "outputId": "4513ea08-b7d8-43e8-be75-402956aa8fe8",
        "colab": {
          "base_uri": "https://localhost:8080/",
          "height": 34
        }
      },
      "source": [
        "nota1 = 20\n",
        "\n",
        "nota2 = 16\n",
        "\n",
        "promedio = (nota1 + nota2) / 2\n",
        "\n",
        "print(promedio)"
      ],
      "execution_count": 0,
      "outputs": [
        {
          "output_type": "stream",
          "text": [
            "18.0\n"
          ],
          "name": "stdout"
        }
      ]
    },
    {
      "cell_type": "code",
      "metadata": {
        "id": "TfKouCI1NnLn",
        "colab_type": "code",
        "outputId": "54bf3638-f4ae-47d6-92e0-6ed88e1d8d7d",
        "colab": {
          "base_uri": "https://localhost:8080/",
          "height": 51
        }
      },
      "source": [
        "nota1 = 20\n",
        "\n",
        "nota2 = 16\n",
        "\n",
        "promedio = (nota1 + nota2) / 2\n",
        "\n",
        "print(\"promedio\")\n",
        "print(promedio)"
      ],
      "execution_count": 0,
      "outputs": [
        {
          "output_type": "stream",
          "text": [
            "promedio\n",
            "18.0\n"
          ],
          "name": "stdout"
        }
      ]
    },
    {
      "cell_type": "code",
      "metadata": {
        "id": "LW3CDRhANtYO",
        "colab_type": "code",
        "outputId": "bba4656b-026c-41c6-b8fe-7c47cfcd3b96",
        "colab": {
          "base_uri": "https://localhost:8080/",
          "height": 34
        }
      },
      "source": [
        "nota1 = 20\n",
        "\n",
        "nota2 = 16\n",
        "\n",
        "promedio = (nota1 + nota2) / 2\n",
        "\n",
        "print(\"promedio\",promedio)\n"
      ],
      "execution_count": 0,
      "outputs": [
        {
          "output_type": "stream",
          "text": [
            "promedio 18.0\n"
          ],
          "name": "stdout"
        }
      ]
    },
    {
      "cell_type": "code",
      "metadata": {
        "id": "f_t8I1DPN378",
        "colab_type": "code",
        "outputId": "c35e292b-56a5-4a72-b70e-b53104bdc845",
        "colab": {
          "base_uri": "https://localhost:8080/",
          "height": 34
        }
      },
      "source": [
        "nota1 = 20\n",
        "nota2 = 16\n",
        "promedio = (nota1 + nota2) / 2\n",
        "print(\"promedio: \",promedio)"
      ],
      "execution_count": 0,
      "outputs": [
        {
          "output_type": "stream",
          "text": [
            "promedio:  18.0\n"
          ],
          "name": "stdout"
        }
      ]
    },
    {
      "cell_type": "code",
      "metadata": {
        "id": "-JXZ4UTPRbV8",
        "colab_type": "code",
        "outputId": "3cd9e4c7-1c46-4f8a-ed4d-de556afa636e",
        "colab": {
          "base_uri": "https://localhost:8080/",
          "height": 34
        }
      },
      "source": [
        "a = 18\n",
        "b = 16\n",
        "c = 20\n",
        "x = (a+b+c)/3\n",
        "print(x)"
      ],
      "execution_count": 0,
      "outputs": [
        {
          "output_type": "stream",
          "text": [
            "18.0\n"
          ],
          "name": "stdout"
        }
      ]
    },
    {
      "cell_type": "code",
      "metadata": {
        "id": "6kfS5xmXRj7m",
        "colab_type": "code",
        "outputId": "adba3c78-4cea-4dab-a093-d2549072bdfa",
        "colab": {
          "base_uri": "https://localhost:8080/",
          "height": 34
        }
      },
      "source": [
        "# .25 , .25 , 0.50\n",
        "a = 18\n",
        "b = 16\n",
        "c = 20\n",
        "x = a*.25+b*.25+c*0.50\n",
        "print(x)"
      ],
      "execution_count": 11,
      "outputs": [
        {
          "output_type": "stream",
          "text": [
            "18.5\n"
          ],
          "name": "stdout"
        }
      ]
    },
    {
      "cell_type": "code",
      "metadata": {
        "id": "a70cM2XgP4E-",
        "colab_type": "code",
        "outputId": "3df2395c-770d-4a29-cd56-0668a3e5b434",
        "colab": {
          "base_uri": "https://localhost:8080/",
          "height": 34
        }
      },
      "source": [
        "# EMULAR LA CALIFICACION DE LA NOTA FINAL DE LA UNIVERSIDAD\n",
        "\n",
        "# CREAR VARIABLES\n",
        "NOTA_EXAMEN_PARCIAL = 18\n",
        "NOTA_EXAMEN_FINAL   = 16\n",
        "NOTA_PERMANENTE     = 20\n",
        "\n",
        "NOTA_FINAL = NOTA_EXAMEN_PARCIAL*.25 + NOTA_EXAMEN_FINAL*.25 + NOTA_PERMANENTE*0.50\n",
        "# Nota Ponderada Final\n",
        "print(NOTA_FINAL)"
      ],
      "execution_count": 13,
      "outputs": [
        {
          "output_type": "stream",
          "text": [
            "18.5\n"
          ],
          "name": "stdout"
        }
      ]
    },
    {
      "cell_type": "code",
      "metadata": {
        "id": "QIcUFmeXSIu8",
        "colab_type": "code",
        "outputId": "c28fbd18-e7b1-4e5c-dc6b-81a4cac318b4",
        "colab": {
          "base_uri": "https://localhost:8080/",
          "height": 34
        }
      },
      "source": [
        "# EMULAR LA CALIFICACION DE LA NOTA FINAL DE LA UNIVERSIDAD\n",
        "\n",
        "# CREAR VARIABLES\n",
        "NOTA_EXAMEN_PARCIAL = 18\n",
        "NOTA_EXAMEN_FINAL   = 16\n",
        "NOTA_PERMANENTE     = 20\n",
        "\n",
        "# PESOS\n",
        "P1 = .25\n",
        "P2 = .25\n",
        "P3 = 0.50\n",
        "\n",
        "NOTA_FINAL = NOTA_EXAMEN_PARCIAL*P1 + NOTA_EXAMEN_FINAL*P2 + NOTA_PERMANENTE*P3\n",
        "print(NOTA_FINAL)"
      ],
      "execution_count": 14,
      "outputs": [
        {
          "output_type": "stream",
          "text": [
            "18.5\n"
          ],
          "name": "stdout"
        }
      ]
    },
    {
      "cell_type": "code",
      "metadata": {
        "id": "jfGKSRG-Sa9e",
        "colab_type": "code",
        "outputId": "96230896-eb03-4e5a-8dd4-5292c15d1ce9",
        "colab": {
          "base_uri": "https://localhost:8080/",
          "height": 51
        }
      },
      "source": [
        "# EMULAR LA CALIFICACION DE LA NOTA FINAL DE LA UNIVERSIDAD\n",
        "\n",
        "# CREAR VARIABLES\n",
        "NOTA_EXAMEN_PARCIAL = 18\n",
        "NOTA_EXAMEN_FINAL   = 16\n",
        "NOTA_PERMANENTE     = 20\n",
        "\n",
        "# PESOS\n",
        "P1 = .25\n",
        "P2 = .25\n",
        "P3 = 0.50\n",
        "\n",
        "NOTA_FINAL = NOTA_EXAMEN_PARCIAL*P1 + NOTA_EXAMEN_FINAL*P2 + NOTA_PERMANENTE*P3\n",
        "print(\"NOTA_FINAL\")\n",
        "print(NOTA_FINAL)"
      ],
      "execution_count": 15,
      "outputs": [
        {
          "output_type": "stream",
          "text": [
            "NOTA_FINAL\n",
            "18.5\n"
          ],
          "name": "stdout"
        }
      ]
    },
    {
      "cell_type": "code",
      "metadata": {
        "id": "rXo5JB1qTUsw",
        "colab_type": "code",
        "outputId": "4a49f006-e7af-4de5-f606-2b306dfb8f87",
        "colab": {
          "base_uri": "https://localhost:8080/",
          "height": 85
        }
      },
      "source": [
        "# CALIFICACION DE LA NOTA FINAL DE LA UNIVERSIDAD\n",
        "\n",
        "# NOTAS\n",
        "NOTA_EXAMEN_PARCIAL = 18\n",
        "NOTA_EXAMEN_FINAL   = 16\n",
        "NOTA_PERMANENTE     = 20\n",
        "\n",
        "# PESOS\n",
        "P1 = 0.25\n",
        "P2 = 0.25\n",
        "P3 = 0.50\n",
        "\n",
        "# FORMULA\n",
        "NOTA_FINAL = NOTA_EXAMEN_PARCIAL*P1 + NOTA_EXAMEN_FINAL*P2 + NOTA_PERMANENTE*P3\n",
        "\n",
        "# IMPRESIONES\n",
        "print(\"NOTA_EXAMEN_PARCIAL\",NOTA_EXAMEN_PARCIAL)\n",
        "print(\"NOTA_EXAMEN_FINAL\",NOTA_EXAMEN_FINAL)\n",
        "print(\"NOTA_PERMANENTE\",NOTA_PERMANENTE)\n",
        "\n",
        "print(\"NOTA_FINAL\",NOTA_FINAL)"
      ],
      "execution_count": 16,
      "outputs": [
        {
          "output_type": "stream",
          "text": [
            "NOTA_EXAMEN_PARCIAL 18\n",
            "NOTA_EXAMEN_FINAL 16\n",
            "NOTA_PERMANENTE 20\n",
            "NOTA_FINAL 18.5\n"
          ],
          "name": "stdout"
        }
      ]
    },
    {
      "cell_type": "code",
      "metadata": {
        "id": "qE9Ee-hSUhjF",
        "colab_type": "code",
        "outputId": "8bbccb94-e723-4f59-d89f-db8abc205e59",
        "colab": {
          "base_uri": "https://localhost:8080/",
          "height": 51
        }
      },
      "source": [
        "username = input(\"Enter username:\")\n",
        "print(\"Username is: \" + username)"
      ],
      "execution_count": 17,
      "outputs": [
        {
          "output_type": "stream",
          "text": [
            "Enter username:Juan\n",
            "Username is: Juan\n"
          ],
          "name": "stdout"
        }
      ]
    },
    {
      "cell_type": "code",
      "metadata": {
        "id": "pzQK2YM_Unc7",
        "colab_type": "code",
        "outputId": "26556faa-76f3-47b2-a8bc-f1a92e5d9f6b",
        "colab": {
          "base_uri": "https://localhost:8080/",
          "height": 51
        }
      },
      "source": [
        "usuario = input(\"Ingrese Usuario:\")\n",
        "print(\"El usuario es: \" + usuario)"
      ],
      "execution_count": 18,
      "outputs": [
        {
          "output_type": "stream",
          "text": [
            "Ingrese Usuario:Pedro\n",
            "El usuario es: Pedro\n"
          ],
          "name": "stdout"
        }
      ]
    },
    {
      "cell_type": "code",
      "metadata": {
        "id": "8lre_janV7nW",
        "colab_type": "code",
        "outputId": "b023bfcd-6cd5-47ee-bd03-943eb1e1ba77",
        "colab": {
          "base_uri": "https://localhost:8080/",
          "height": 34
        }
      },
      "source": [
        "variable_texto = \"20\"\n",
        "\n",
        "#x = variable_texto + 1\n",
        "x = int(variable_texto) + 1\n",
        "\n",
        "print(x)"
      ],
      "execution_count": 19,
      "outputs": [
        {
          "output_type": "stream",
          "text": [
            "21\n"
          ],
          "name": "stdout"
        }
      ]
    },
    {
      "cell_type": "code",
      "metadata": {
        "id": "7Oslv7I_U-AU",
        "colab_type": "code",
        "outputId": "9c7d4029-5ed6-4e7c-9840-2c6b8e1608dc",
        "colab": {
          "base_uri": "https://localhost:8080/",
          "height": 68
        }
      },
      "source": [
        "a = int(input(\"Ingrese Valor Primero:\"))\n",
        "b = int(input(\"Ingrese Valor Segundo:\"))\n",
        "x = (a + b) / 2\n",
        "print(x)"
      ],
      "execution_count": 20,
      "outputs": [
        {
          "output_type": "stream",
          "text": [
            "Ingrese Valor Primero:16\n",
            "Ingrese Valor Segundo:18\n",
            "17.0\n"
          ],
          "name": "stdout"
        }
      ]
    },
    {
      "cell_type": "code",
      "metadata": {
        "id": "HTdhkXTZWga0",
        "colab_type": "code",
        "outputId": "78757f1d-4f96-4a2c-8abf-07dcdbb4ccc0",
        "colab": {
          "base_uri": "https://localhost:8080/",
          "height": 136
        }
      },
      "source": [
        "# CALIFICACION DE LA NOTA FINAL DE LA UNIVERSIDAD\n",
        "\n",
        "# NOTAS\n",
        "NOTA_EXAMEN_PARCIAL = int(input(\"Ingrese NOTA_EXAMEN_PARCIAL:\"))\n",
        "NOTA_EXAMEN_FINAL   = int(input(\"Ingrese NOTA_EXAMEN_FINAL:\"))\n",
        "NOTA_PERMANENTE     = int(input(\"Ingrese NOTA_PERMANENTE:\"))\n",
        "\n",
        "# PESOS\n",
        "P1 = .25\n",
        "P2 = .25\n",
        "P3 = 0.50\n",
        "\n",
        "# FORMULA\n",
        "NOTA_FINAL = NOTA_EXAMEN_PARCIAL*P1 + NOTA_EXAMEN_FINAL*P2 + NOTA_PERMANENTE*P3\n",
        "\n",
        "# IMPRESIONES\n",
        "print(\"NOTA_EXAMEN_PARCIAL\",NOTA_EXAMEN_PARCIAL)\n",
        "print(\"NOTA_EXAMEN_FINAL\",NOTA_EXAMEN_FINAL)\n",
        "print(\"NOTA_PERMANENTE\",NOTA_PERMANENTE)\n",
        "\n",
        "print(\"NOTA_FINAL\",NOTA_FINAL)"
      ],
      "execution_count": 21,
      "outputs": [
        {
          "output_type": "stream",
          "text": [
            "Ingrese NOTA_EXAMEN_PARCIAL:12\n",
            "Ingrese NOTA_EXAMEN_FINAL:16\n",
            "Ingrese NOTA_PERMANENTE:18\n",
            "NOTA_EXAMEN_PARCIAL 12\n",
            "NOTA_EXAMEN_FINAL 16\n",
            "NOTA_PERMANENTE 18\n",
            "NOTA_FINAL 16.0\n"
          ],
          "name": "stdout"
        }
      ]
    },
    {
      "cell_type": "code",
      "metadata": {
        "id": "gdM7SpZKabnJ",
        "colab_type": "code",
        "outputId": "40512941-f945-4e9d-d44e-ba91a4a9583e",
        "colab": {
          "base_uri": "https://localhost:8080/",
          "height": 34
        }
      },
      "source": [
        "# AREA DEL CUADRADO\n",
        "LADO = 10\n",
        "AREA_CUADRADO = LADO * LADO\n",
        "print(\"AREA_CUADRADO\",AREA_CUADRADO)"
      ],
      "execution_count": 22,
      "outputs": [
        {
          "output_type": "stream",
          "text": [
            "AREA_CUADRADO 100\n"
          ],
          "name": "stdout"
        }
      ]
    },
    {
      "cell_type": "code",
      "metadata": {
        "id": "Z-anOOoeany9",
        "colab_type": "code",
        "outputId": "56bb5ab5-8d90-4d3b-cb55-6dd3ab311461",
        "colab": {
          "base_uri": "https://localhost:8080/",
          "height": 51
        }
      },
      "source": [
        "# AREA DEL CUADRADO\n",
        "# int INTEGER ENTERO <..,-2,-1,0,1,2,..>\n",
        "\n",
        "LADO = int(input(\"Ingrese LADO DEL CUADRADO:\"))\n",
        "AREA_CUADRADO = LADO * LADO\n",
        "print(\"AREA_CUADRADO\",AREA_CUADRADO)"
      ],
      "execution_count": 23,
      "outputs": [
        {
          "output_type": "stream",
          "text": [
            "Ingrese LADO DEL CUADRADO:10\n",
            "AREA_CUADRADO 100\n"
          ],
          "name": "stdout"
        }
      ]
    },
    {
      "cell_type": "code",
      "metadata": {
        "id": "LevQmx03bGCo",
        "colab_type": "code",
        "outputId": "e313dc52-6b16-411e-ad10-11ef6992bd0d",
        "colab": {
          "base_uri": "https://localhost:8080/",
          "height": 68
        }
      },
      "source": [
        "# AREA DEL RECTANGULO\n",
        "base   = int(input(\"Ingrese base:\"))\n",
        "altura = int(input(\"Ingrese altura:\"))\n",
        "AREA_RECTANGULO = base * altura\n",
        "print(\"AREA_RECTANGULO\",AREA_RECTANGULO)"
      ],
      "execution_count": 24,
      "outputs": [
        {
          "output_type": "stream",
          "text": [
            "Ingrese base:10\n",
            "Ingrese altura:6\n",
            "AREA_RECTANGULO 60\n"
          ],
          "name": "stdout"
        }
      ]
    },
    {
      "cell_type": "code",
      "metadata": {
        "id": "2Cag2t29epJC",
        "colab_type": "code",
        "outputId": "5a61a2a1-a61f-46c1-a439-18e47c77ea14",
        "colab": {
          "base_uri": "https://localhost:8080/",
          "height": 68
        }
      },
      "source": [
        "# AREA DEL TRIANGULO\n",
        "# AREA_TRIANGULO = (base*altura)/2\n",
        "base = int(input(\"ingrese base:\" ))\n",
        "altura = int(input(\"ingrese altura:\" ))\n",
        "AREA_TRIANGULO = (base*altura)/2\n",
        "print(\"AREA_TRIANGULO\",AREA_TRIANGULO)"
      ],
      "execution_count": 25,
      "outputs": [
        {
          "output_type": "stream",
          "text": [
            "ingrese base:10\n",
            "ingrese altura:2\n",
            "AREA_TRIANGULO 10.0\n"
          ],
          "name": "stdout"
        }
      ]
    },
    {
      "cell_type": "code",
      "metadata": {
        "id": "tU-sdL6verD0",
        "colab_type": "code",
        "outputId": "b9ce2189-f6bb-4a89-f1a8-1e17b58dabd6",
        "colab": {
          "base_uri": "https://localhost:8080/",
          "height": 68
        }
      },
      "source": [
        "# AREA DEL ROMBO\n",
        "# AREA_ROMBO = (diagonal_mayor * diagonal_menor)/2\n",
        "diagonal_mayor = int(input(\"ingrese diagonal_mayor:\" ))\n",
        "diagonal_menor = int(input(\"ingrese diagonal_menor:\" ))\n",
        "AREA_ROMBO = (diagonal_mayor * diagonal_menor)/2\n",
        "print(\"AREA_ROMBO\",AREA_ROMBO)\n"
      ],
      "execution_count": 26,
      "outputs": [
        {
          "output_type": "stream",
          "text": [
            "ingrese diagonal_mayor:10\n",
            "ingrese diagonal_menor:5\n",
            "AREA_ROMBO 25.0\n"
          ],
          "name": "stdout"
        }
      ]
    },
    {
      "cell_type": "code",
      "metadata": {
        "id": "au2_-MUrl43N",
        "colab_type": "code",
        "outputId": "c554e466-2519-4638-d1a1-9737fd7eefcb",
        "colab": {
          "base_uri": "https://localhost:8080/",
          "height": 68
        }
      },
      "source": [
        "# AREA DEL ROMBO\n",
        "# AREA_ROMBO = (diagonal_mayor * diagonal_menor)/2\n",
        "D = int(input(\"ingrese D:\" ))\n",
        "d = int(input(\"ingrese d:\" ))\n",
        "AREA_ROMBO = D*d/2\n",
        "print(\"AREA_ROMBO\",AREA_ROMBO)\n"
      ],
      "execution_count": 27,
      "outputs": [
        {
          "output_type": "stream",
          "text": [
            "ingrese D:10\n",
            "ingrese d:5\n",
            "AREA_ROMBO 25.0\n"
          ],
          "name": "stdout"
        }
      ]
    },
    {
      "cell_type": "code",
      "metadata": {
        "id": "mYAItH1bmEL8",
        "colab_type": "code",
        "outputId": "e007f925-320b-4ca3-b7a4-ae33c7acbe17",
        "colab": {
          "base_uri": "https://localhost:8080/",
          "height": 68
        }
      },
      "source": [
        "# AREA DEL ROMBO\n",
        "# AREA_ROMBO = (diagonal_mayor * diagonal_menor)/2\n",
        "Dmay = int(input(\"ingrese diagonal_mayor:\" ))\n",
        "dmen = int(input(\"ingrese diagonal_menor:\" ))\n",
        "AREA_ROMBO = Dmay*dmen/2\n",
        "print(\"AREA_ROMBO\",AREA_ROMBO)\n"
      ],
      "execution_count": 29,
      "outputs": [
        {
          "output_type": "stream",
          "text": [
            "ingrese diagonal_mayor:10\n",
            "ingrese diagonal_menor:5\n",
            "AREA_ROMBO 25.0\n"
          ],
          "name": "stdout"
        }
      ]
    },
    {
      "cell_type": "code",
      "metadata": {
        "id": "Q4KdaeuimwE6",
        "colab_type": "code",
        "outputId": "ee607686-16c5-476c-e8a7-39da7cac8a16",
        "colab": {
          "base_uri": "https://localhost:8080/",
          "height": 51
        }
      },
      "source": [
        "# AREA DEL CIRCULO\n",
        "# A = PI * r * r\n",
        "# AREA_CIRCULO = PI * radio * radio\n",
        "PI = 3.1415\n",
        "radio = int(input(\"ingrese radio:\" ))\n",
        "AREA_CIRCULO = PI * radio * radio\n",
        "print(\"AREA_CIRCULO\",AREA_CIRCULO)"
      ],
      "execution_count": 30,
      "outputs": [
        {
          "output_type": "stream",
          "text": [
            "ingrese radio:10\n",
            "AREA_CIRCULO 314.15000000000003\n"
          ],
          "name": "stdout"
        }
      ]
    },
    {
      "cell_type": "code",
      "metadata": {
        "id": "Fx47Akh-no1z",
        "colab_type": "code",
        "outputId": "595a914b-0bef-4522-8205-77831da4b28e",
        "colab": {
          "base_uri": "https://localhost:8080/",
          "height": 51
        }
      },
      "source": [
        "# AREA DEL CIRCULO\n",
        "# A = PI * r * r\n",
        "# AREA_CIRCULO = PI * radio * radio\n",
        "PI = 3.1415\n",
        "radio = int(input(\"ingrese radio:\" ))\n",
        "AREA_CIRCULO = PI * radio**2\n",
        "print(\"AREA_CIRCULO\",AREA_CIRCULO)"
      ],
      "execution_count": 31,
      "outputs": [
        {
          "output_type": "stream",
          "text": [
            "ingrese radio:10\n",
            "AREA_CIRCULO 314.15000000000003\n"
          ],
          "name": "stdout"
        }
      ]
    },
    {
      "cell_type": "code",
      "metadata": {
        "id": "97ZiNydWINM6",
        "colab_type": "code",
        "outputId": "75cecc97-de18-4ef8-c3e6-2b90ea545fb0",
        "colab": {
          "base_uri": "https://localhost:8080/",
          "height": 68
        }
      },
      "source": [
        "# AREA DEL PRISMA RETANGULAR\n",
        "\n",
        "# AREA_ PRISMA  = (base*altura)/2\n",
        "\n",
        "base = int(input(\"ingrese base:\" ))\n",
        "\n",
        "altura = int(input(\"ingrese altura:\" ))\n",
        "\n",
        "AREA_PRISMA  = (base*altura)/2\n",
        "\n",
        "print(\"AREA DEL PRISMA : \", AREA_PRISMA )"
      ],
      "execution_count": 32,
      "outputs": [
        {
          "output_type": "stream",
          "text": [
            "ingrese base:22\n",
            "ingrese altura:8\n",
            "AREA DEL PRISMA :  88.0\n"
          ],
          "name": "stdout"
        }
      ]
    }
  ]
}