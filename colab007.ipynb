{
 "cells": [
  {
   "cell_type": "code",
   "execution_count": 2,
   "metadata": {},
   "outputs": [
    {
     "name": "stdout",
     "output_type": "stream",
     "text": [
      "   RH GRUPOSANGUINEO  PORCENTAJE\n",
      "0   1              A       18.40\n",
      "1   1              B        7.80\n",
      "2   1             AB        1.60\n",
      "3   1              O       70.00\n",
      "4  -1              A        0.50\n",
      "5  -1              B        0.28\n",
      "6  -1             AB        0.02\n",
      "7  -1              O        1.40\n"
     ]
    }
   ],
   "source": [
    "import pandas as pd\n",
    "# df1  es  un dataframe\n",
    "df1 = pd.read_excel('gruposanguineoperu.xlsx')\n",
    "print(df1)\n",
    "\n",
    "# DATOS TOMADOS DE :\n",
    "# http://anahome.pythonanywhere.com/\n",
    "# http://anahome.pythonanywhere.com/id/39\n"
   ]
  },
  {
   "cell_type": "code",
   "execution_count": 3,
   "metadata": {},
   "outputs": [
    {
     "name": "stdout",
     "output_type": "stream",
     "text": [
      "1\n",
      "1\n",
      "1\n",
      "1\n",
      "-1\n",
      "-1\n",
      "-1\n",
      "-1\n"
     ]
    }
   ],
   "source": [
    "import pandas as pd\n",
    "df1 = pd.read_excel('gruposanguineoperu.xlsx')\n",
    "#print(df1)\n",
    "for idx,row in df1.iterrows():\n",
    "     vRH = df1.iloc[idx]['RH']\n",
    "     print(vRH)"
   ]
  },
  {
   "cell_type": "code",
   "execution_count": 4,
   "metadata": {},
   "outputs": [
    {
     "name": "stdout",
     "output_type": "stream",
     "text": [
      "1 A 18.4\n",
      "1 B 7.8\n",
      "1 AB 1.6\n",
      "1 O 70.0\n",
      "-1 A 0.5\n",
      "-1 B 0.28\n",
      "-1 AB 0.02\n",
      "-1 O 1.4\n"
     ]
    }
   ],
   "source": [
    "import pandas as pd\n",
    "df1 = pd.read_excel('gruposanguineoperu.xlsx')\n",
    "#print(df1)\n",
    "for idx,row in df1.iterrows():\n",
    "     vRH = df1.iloc[idx]['RH']\n",
    "     vGRUPOSANGUINEO = df1.iloc[idx]['GRUPOSANGUINEO']\n",
    "     vPORCENTAJE = df1.iloc[idx]['PORCENTAJE']\n",
    "     print(vRH,vGRUPOSANGUINEO,vPORCENTAJE)"
   ]
  },
  {
   "cell_type": "code",
   "execution_count": 7,
   "metadata": {},
   "outputs": [
    {
     "name": "stdout",
     "output_type": "stream",
     "text": [
      "RH                   1\n",
      "GRUPOSANGUINEO       A\n",
      "PORCENTAJE        18.4\n",
      "Name: 0, dtype: object\n",
      "RH                  1\n",
      "GRUPOSANGUINEO      B\n",
      "PORCENTAJE        7.8\n",
      "Name: 1, dtype: object\n",
      "RH                  1\n",
      "GRUPOSANGUINEO     AB\n",
      "PORCENTAJE        1.6\n",
      "Name: 2, dtype: object\n",
      "RH                 1\n",
      "GRUPOSANGUINEO     O\n",
      "PORCENTAJE        70\n",
      "Name: 3, dtype: object\n",
      "RH                 -1\n",
      "GRUPOSANGUINEO      A\n",
      "PORCENTAJE        0.5\n",
      "Name: 4, dtype: object\n",
      "RH                  -1\n",
      "GRUPOSANGUINEO       B\n",
      "PORCENTAJE        0.28\n",
      "Name: 5, dtype: object\n",
      "RH                  -1\n",
      "GRUPOSANGUINEO      AB\n",
      "PORCENTAJE        0.02\n",
      "Name: 6, dtype: object\n",
      "RH                 -1\n",
      "GRUPOSANGUINEO      O\n",
      "PORCENTAJE        1.4\n",
      "Name: 7, dtype: object\n"
     ]
    }
   ],
   "source": [
    "import pandas as pd\n",
    "df1 = pd.read_excel('gruposanguineoperu.xlsx')\n",
    "#print(df1)\n",
    "for idx,row in df1.iterrows():\n",
    "    print(row)"
   ]
  },
  {
   "cell_type": "code",
   "execution_count": 8,
   "metadata": {},
   "outputs": [
    {
     "name": "stdout",
     "output_type": "stream",
     "text": [
      "A\n",
      "B\n",
      "AB\n",
      "O\n",
      "A\n",
      "B\n",
      "AB\n",
      "O\n"
     ]
    }
   ],
   "source": [
    "import pandas as pd\n",
    "df1 = pd.read_excel('gruposanguineoperu.xlsx')\n",
    "#print(df1)\n",
    "for idx,row in df1.iterrows():\n",
    "    print(row['GRUPOSANGUINEO'])"
   ]
  },
  {
   "cell_type": "code",
   "execution_count": 9,
   "metadata": {},
   "outputs": [
    {
     "name": "stdout",
     "output_type": "stream",
     "text": [
      "1 A 18.4\n",
      "1 B 7.8\n",
      "1 AB 1.6\n",
      "1 O 70.0\n",
      "-1 A 0.5\n",
      "-1 B 0.28\n",
      "-1 AB 0.02\n",
      "-1 O 1.4\n"
     ]
    }
   ],
   "source": [
    "import pandas as pd\n",
    "df1 = pd.read_excel('gruposanguineoperu.xlsx')\n",
    "#print(df1)\n",
    "for idx,row in df1.iterrows():\n",
    "     vRH = row['RH']\n",
    "     vGRUPOSANGUINEO =row['GRUPOSANGUINEO']\n",
    "     vPORCENTAJE = row['PORCENTAJE']\n",
    "     print(vRH,vGRUPOSANGUINEO,vPORCENTAJE)    "
   ]
  },
  {
   "cell_type": "code",
   "execution_count": 10,
   "metadata": {},
   "outputs": [
    {
     "name": "stdout",
     "output_type": "stream",
     "text": [
      "1 A 18.4\n",
      "1 B 7.8\n",
      "1 AB 1.6\n",
      "1 O 70.0\n"
     ]
    }
   ],
   "source": [
    "import pandas as pd\n",
    "df1 = pd.read_excel('gruposanguineoperu.xlsx')\n",
    "#print(df1)\n",
    "for idx,row in df1.iterrows():\n",
    "    vRH = row['RH']\n",
    "    vGRUPOSANGUINEO =row['GRUPOSANGUINEO']\n",
    "    vPORCENTAJE = row['PORCENTAJE']\n",
    "    if vRH >= 1:\n",
    "       print(vRH,vGRUPOSANGUINEO,vPORCENTAJE)     "
   ]
  },
  {
   "cell_type": "code",
   "execution_count": 11,
   "metadata": {
    "scrolled": true
   },
   "outputs": [
    {
     "name": "stdout",
     "output_type": "stream",
     "text": [
      "-1 A 0.5\n",
      "-1 B 0.28\n",
      "-1 AB 0.02\n",
      "-1 O 1.4\n"
     ]
    }
   ],
   "source": [
    "import pandas as pd\n",
    "df1 = pd.read_excel('gruposanguineoperu.xlsx')\n",
    "#print(df1)\n",
    "for idx,row in df1.iterrows():\n",
    "    vRH = row['RH']\n",
    "    vGRUPOSANGUINEO =row['GRUPOSANGUINEO']\n",
    "    vPORCENTAJE = row['PORCENTAJE']\n",
    "    if vRH < 1:\n",
    "       print(vRH,vGRUPOSANGUINEO,vPORCENTAJE)   "
   ]
  },
  {
   "cell_type": "code",
   "execution_count": 12,
   "metadata": {},
   "outputs": [
    {
     "name": "stdout",
     "output_type": "stream",
     "text": [
      "1 O 70.0\n",
      "-1 O 1.4\n"
     ]
    }
   ],
   "source": [
    "import pandas as pd\n",
    "df1 = pd.read_excel('gruposanguineoperu.xlsx')\n",
    "#print(df1)\n",
    "for idx,row in df1.iterrows():\n",
    "    vRH = row['RH']\n",
    "    vGRUPOSANGUINEO =row['GRUPOSANGUINEO']\n",
    "    vPORCENTAJE = row['PORCENTAJE']\n",
    "    if vGRUPOSANGUINEO == \"O\":\n",
    "       print(vRH,vGRUPOSANGUINEO,vPORCENTAJE)   "
   ]
  },
  {
   "cell_type": "code",
   "execution_count": 15,
   "metadata": {},
   "outputs": [
    {
     "name": "stdout",
     "output_type": "stream",
     "text": [
      "1 A 18.4\n",
      "1 B 7.8\n",
      "1 AB 1.6\n",
      "1 O 70.0\n",
      "-1 A 0.5\n",
      "-1 B 0.28\n",
      "-1 AB 0.02\n",
      "-1 O 1.4\n",
      "sumaPorcentaje:  100.0 %\n"
     ]
    }
   ],
   "source": [
    "import pandas as pd\n",
    "df1 = pd.read_excel('gruposanguineoperu.xlsx')\n",
    "\n",
    "sumaPorcentaje = 0\n",
    "for idx,row in df1.iterrows():\n",
    "    vRH = row['RH']\n",
    "    vGRUPOSANGUINEO =row['GRUPOSANGUINEO']\n",
    "    vPORCENTAJE = row['PORCENTAJE']\n",
    "    \n",
    "    sumaPorcentaje = sumaPorcentaje + vPORCENTAJE\n",
    "    \n",
    "    print(vRH,vGRUPOSANGUINEO,vPORCENTAJE)   \n",
    "print(\"sumaPorcentaje: \",sumaPorcentaje, \"%\")    "
   ]
  },
  {
   "cell_type": "code",
   "execution_count": 16,
   "metadata": {},
   "outputs": [
    {
     "name": "stdout",
     "output_type": "stream",
     "text": [
      "   RH GRUPOSANGUINEO  PORCENTAJE\n",
      "0   1              A       18.40\n",
      "1   1              B        7.80\n",
      "2   1             AB        1.60\n",
      "3   1              O       70.00\n",
      "4  -1              A        0.50\n",
      "5  -1              B        0.28\n",
      "6  -1             AB        0.02\n",
      "7  -1              O        1.40\n",
      "sumaPorcentaje:  100.0 %\n"
     ]
    }
   ],
   "source": [
    "import pandas as pd\n",
    "df1 = pd.read_excel('gruposanguineoperu.xlsx')\n",
    "print(df1)\n",
    "\n",
    "sumaPorcentaje = 0\n",
    "for idx,row in df1.iterrows():\n",
    "    vPORCENTAJE = row['PORCENTAJE']    \n",
    "    sumaPorcentaje = sumaPorcentaje + vPORCENTAJE\n",
    "    \n",
    "print(\"sumaPorcentaje: \",sumaPorcentaje, \"%\")    \n"
   ]
  },
  {
   "cell_type": "code",
   "execution_count": 18,
   "metadata": {},
   "outputs": [
    {
     "name": "stdout",
     "output_type": "stream",
     "text": [
      "   RH GRUPOSANGUINEO  PORCENTAJE\n",
      "0   1              A       18.40\n",
      "1   1              B        7.80\n",
      "2   1             AB        1.60\n",
      "3   1              O       70.00\n",
      "4  -1              A        0.50\n",
      "5  -1              B        0.28\n",
      "6  -1             AB        0.02\n",
      "7  -1              O        1.40\n",
      "sumaPorcentaje:  100.0 %\n"
     ]
    }
   ],
   "source": [
    "import pandas as pd\n",
    "df1 = pd.read_excel('gruposanguineoperu.xlsx')\n",
    "print(df1)\n",
    "\n",
    "sumaPorcentaje = 0\n",
    "for idx,row in df1.iterrows():    \n",
    "    sumaPorcentaje = sumaPorcentaje + row['PORCENTAJE']\n",
    "    \n",
    "print(\"sumaPorcentaje: \",sumaPorcentaje, \"%\")    \n"
   ]
  },
  {
   "cell_type": "code",
   "execution_count": null,
   "metadata": {},
   "outputs": [],
   "source": []
  }
 ],
 "metadata": {
  "kernelspec": {
   "display_name": "Python 3",
   "language": "python",
   "name": "python3"
  },
  "language_info": {
   "codemirror_mode": {
    "name": "ipython",
    "version": 3
   },
   "file_extension": ".py",
   "mimetype": "text/x-python",
   "name": "python",
   "nbconvert_exporter": "python",
   "pygments_lexer": "ipython3",
   "version": "3.7.1"
  }
 },
 "nbformat": 4,
 "nbformat_minor": 4
}
